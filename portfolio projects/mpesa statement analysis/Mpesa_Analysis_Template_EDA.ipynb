{
 "cells": [
  {
   "cell_type": "markdown",
   "id": "8714bbe9",
   "metadata": {},
   "source": [
    "# M-PESA Statement Analysis"
   ]
  },
  {
   "cell_type": "markdown",
   "id": "2e9e9c25",
   "metadata": {},
   "source": [
    "## 1. Load the necessary libraries"
   ]
  },
  {
   "cell_type": "code",
   "execution_count": 7,
   "id": "7f0f4428",
   "metadata": {},
   "outputs": [],
   "source": [
    "# Load necessary libraries\n",
    "import pandas as pd\n",
    "import matplotlib.pyplot as plt\n",
    "import seaborn as sns\n",
    "import pdfplumber\n",
    "from utils import Utilities as utl\n",
    "import warnings\n",
    "warnings.filterwarnings('ignore')\n"
   ]
  },
  {
   "cell_type": "markdown",
   "id": "c86d5e3e",
   "metadata": {},
   "source": [
    "# Load the dataset"
   ]
  },
  {
   "cell_type": "code",
   "execution_count": 2,
   "id": "11a8916c",
   "metadata": {},
   "outputs": [
    {
     "data": {
      "text/html": [
       "<div>\n",
       "<style scoped>\n",
       "    .dataframe tbody tr th:only-of-type {\n",
       "        vertical-align: middle;\n",
       "    }\n",
       "\n",
       "    .dataframe tbody tr th {\n",
       "        vertical-align: top;\n",
       "    }\n",
       "\n",
       "    .dataframe thead th {\n",
       "        text-align: right;\n",
       "    }\n",
       "</style>\n",
       "<table border=\"1\" class=\"dataframe\">\n",
       "  <thead>\n",
       "    <tr style=\"text-align: right;\">\n",
       "      <th></th>\n",
       "      <th>Receipt No.</th>\n",
       "      <th>Completion Time</th>\n",
       "      <th>Details</th>\n",
       "      <th>Transaction Status</th>\n",
       "      <th>Paid In</th>\n",
       "      <th>Withdrawn</th>\n",
       "      <th>Balance</th>\n",
       "    </tr>\n",
       "  </thead>\n",
       "  <tbody>\n",
       "    <tr>\n",
       "      <th>0</th>\n",
       "      <td>SLO4NDVHNM</td>\n",
       "      <td>2024-12-24 12:00:00</td>\n",
       "      <td>Customer Bundle Purchase to\\n244441SAFARICOM P...</td>\n",
       "      <td>Completed</td>\n",
       "      <td></td>\n",
       "      <td>-20.00</td>\n",
       "      <td>0.00</td>\n",
       "    </tr>\n",
       "    <tr>\n",
       "      <th>1</th>\n",
       "      <td>SLO2NDIE0O</td>\n",
       "      <td>2024-12-24 11:57:43</td>\n",
       "      <td>Funds received from -\\n2547******312 JACKLINE\\...</td>\n",
       "      <td>Completed</td>\n",
       "      <td>20.00</td>\n",
       "      <td></td>\n",
       "      <td>20.00</td>\n",
       "    </tr>\n",
       "    <tr>\n",
       "      <th>2</th>\n",
       "      <td>SLO0N0O1ZC</td>\n",
       "      <td>2024-12-24 10:36:45</td>\n",
       "      <td>Pay Bill Charge</td>\n",
       "      <td>Completed</td>\n",
       "      <td></td>\n",
       "      <td>-4.00</td>\n",
       "      <td>0.00</td>\n",
       "    </tr>\n",
       "    <tr>\n",
       "      <th>3</th>\n",
       "      <td>SLO0N0O1ZC</td>\n",
       "      <td>2024-12-24 10:36:45</td>\n",
       "      <td>Pay Bill Online to 290290 -\\nBETIKA Acc. 25474...</td>\n",
       "      <td>Completed</td>\n",
       "      <td></td>\n",
       "      <td>-25.00</td>\n",
       "      <td>4.00</td>\n",
       "    </tr>\n",
       "    <tr>\n",
       "      <th>4</th>\n",
       "      <td>SLN6KQ99C0</td>\n",
       "      <td>2024-12-23 18:44:00</td>\n",
       "      <td>Customer Transfer of Funds\\nCharge</td>\n",
       "      <td>Completed</td>\n",
       "      <td></td>\n",
       "      <td>-7.00</td>\n",
       "      <td>29.00</td>\n",
       "    </tr>\n",
       "  </tbody>\n",
       "</table>\n",
       "</div>"
      ],
      "text/plain": [
       "  Receipt No.      Completion Time  \\\n",
       "0  SLO4NDVHNM  2024-12-24 12:00:00   \n",
       "1  SLO2NDIE0O  2024-12-24 11:57:43   \n",
       "2  SLO0N0O1ZC  2024-12-24 10:36:45   \n",
       "3  SLO0N0O1ZC  2024-12-24 10:36:45   \n",
       "4  SLN6KQ99C0  2024-12-23 18:44:00   \n",
       "\n",
       "                                             Details Transaction Status  \\\n",
       "0  Customer Bundle Purchase to\\n244441SAFARICOM P...          Completed   \n",
       "1  Funds received from -\\n2547******312 JACKLINE\\...          Completed   \n",
       "2                                    Pay Bill Charge          Completed   \n",
       "3  Pay Bill Online to 290290 -\\nBETIKA Acc. 25474...          Completed   \n",
       "4                 Customer Transfer of Funds\\nCharge          Completed   \n",
       "\n",
       "  Paid In Withdrawn Balance  \n",
       "0            -20.00    0.00  \n",
       "1   20.00             20.00  \n",
       "2             -4.00    0.00  \n",
       "3            -25.00    4.00  \n",
       "4             -7.00   29.00  "
      ]
     },
     "execution_count": 2,
     "metadata": {},
     "output_type": "execute_result"
    }
   ],
   "source": [
    "file_path = \"MPESA_Statement_2024-01-01_to_2024-12-24_2547xxxxxx374_unlocked.pdf\"\n",
    "\n",
    "# Extract table data from the PDF\n",
    "with pdfplumber.open(file_path) as pdf:\n",
    "    data = []\n",
    "    for page in pdf.pages:\n",
    "        table = page.extract_table()\n",
    "        if table:\n",
    "            data.extend(table)\n",
    "\n",
    "# Set the appropriate column names for the dataframe\n",
    "columns = [\"Receipt No.\", \"Completion Time\", \"Details\", \"Transaction Status\", \"Paid In\", \"Withdrawn\", \"Balance\"]\n",
    "data = pd.DataFrame(data[1:], columns=columns)  # Skip header row from the data\n",
    "\n",
    "# Display the first few rows of the dataset\n",
    "data.head()"
   ]
  },
  {
   "cell_type": "markdown",
   "id": "fbd30803",
   "metadata": {},
   "source": [
    "### Data Cleaning"
   ]
  },
  {
   "cell_type": "code",
   "execution_count": 3,
   "id": "0ba5a2bf",
   "metadata": {},
   "outputs": [
    {
     "data": {
      "text/plain": [
       "Receipt No.           0\n",
       "Completion Time       0\n",
       "Details               0\n",
       "Transaction Status    0\n",
       "Paid In               0\n",
       "Withdrawn             0\n",
       "Balance               0\n",
       "dtype: int64"
      ]
     },
     "execution_count": 3,
     "metadata": {},
     "output_type": "execute_result"
    }
   ],
   "source": [
    "import re\n",
    "\n",
    "def clean_amount(amount):\n",
    "    # Remove non-numeric characters except decimal points\n",
    "    cleaned = re.sub(r'[^\\d.]', '', str(amount))\n",
    "    return cleaned\n",
    "\n",
    "data['Paid In'] = data['Paid In'].apply(clean_amount)\n",
    "data['Withdrawn'] = data['Withdrawn'].apply(clean_amount)\n",
    "data['Balance'] = data['Balance'].apply(clean_amount)\n",
    "\n",
    "# Check for missing values\n",
    "data.isnull().sum()"
   ]
  },
  {
   "cell_type": "markdown",
   "id": "dacfe4bc",
   "metadata": {},
   "source": [
    "# Data preprocessing"
   ]
  },
  {
   "cell_type": "code",
   "execution_count": 4,
   "id": "3c2c8033",
   "metadata": {},
   "outputs": [
    {
     "name": "stdout",
     "output_type": "stream",
     "text": [
      "<class 'pandas.core.frame.DataFrame'>\n",
      "RangeIndex: 5029 entries, 0 to 5028\n",
      "Data columns (total 7 columns):\n",
      " #   Column              Non-Null Count  Dtype  \n",
      "---  ------              --------------  -----  \n",
      " 0   Receipt No.         5029 non-null   object \n",
      " 1   Completion Time     5029 non-null   object \n",
      " 2   Details             5029 non-null   object \n",
      " 3   Transaction Status  5029 non-null   object \n",
      " 4   Paid In             1766 non-null   float64\n",
      " 5   Withdrawn           3146 non-null   float64\n",
      " 6   Balance             4912 non-null   float64\n",
      "dtypes: float64(3), object(4)\n",
      "memory usage: 275.1+ KB\n",
      "None\n"
     ]
    }
   ],
   "source": [
    "# Convert numeric columns to appropriate types\n",
    "numeric_cols = [\"Paid In\", \"Withdrawn\", \"Balance\"]\n",
    "for col in numeric_cols:\n",
    "    data[col] = data[col].replace({',': '', ' ': ''}, regex=True)\n",
    "    data[col] = pd.to_numeric(data[col], errors=\"coerce\")\n",
    "\n",
    "# Print basic information about the dataset\n",
    "print(data.info())"
   ]
  },
  {
   "cell_type": "code",
   "execution_count": 24,
   "id": "b7a4e2d2",
   "metadata": {},
   "outputs": [
    {
     "data": {
      "text/html": [
       "<div>\n",
       "<style scoped>\n",
       "    .dataframe tbody tr th:only-of-type {\n",
       "        vertical-align: middle;\n",
       "    }\n",
       "\n",
       "    .dataframe tbody tr th {\n",
       "        vertical-align: top;\n",
       "    }\n",
       "\n",
       "    .dataframe thead th {\n",
       "        text-align: right;\n",
       "    }\n",
       "</style>\n",
       "<table border=\"1\" class=\"dataframe\">\n",
       "  <thead>\n",
       "    <tr style=\"text-align: right;\">\n",
       "      <th></th>\n",
       "      <th>Receipt No.</th>\n",
       "      <th>Details</th>\n",
       "      <th>Paid In</th>\n",
       "      <th>Withdrawn</th>\n",
       "      <th>Balance</th>\n",
       "      <th>Date</th>\n",
       "      <th>Time</th>\n",
       "    </tr>\n",
       "  </thead>\n",
       "  <tbody>\n",
       "    <tr>\n",
       "      <th>0</th>\n",
       "      <td>SLO4NDVHNM</td>\n",
       "      <td>Customer Bundle Purchase to\\n244441SAFARICOM P...</td>\n",
       "      <td>NaN</td>\n",
       "      <td>20.0</td>\n",
       "      <td>0.0</td>\n",
       "      <td>2024-12-24</td>\n",
       "      <td>12:00:00</td>\n",
       "    </tr>\n",
       "    <tr>\n",
       "      <th>1</th>\n",
       "      <td>SLO2NDIE0O</td>\n",
       "      <td>Funds received from -\\n2547******312 JACKLINE\\...</td>\n",
       "      <td>20.0</td>\n",
       "      <td>NaN</td>\n",
       "      <td>20.0</td>\n",
       "      <td>2024-12-24</td>\n",
       "      <td>11:57:43</td>\n",
       "    </tr>\n",
       "    <tr>\n",
       "      <th>2</th>\n",
       "      <td>SLO0N0O1ZC</td>\n",
       "      <td>Pay Bill Charge</td>\n",
       "      <td>NaN</td>\n",
       "      <td>4.0</td>\n",
       "      <td>0.0</td>\n",
       "      <td>2024-12-24</td>\n",
       "      <td>10:36:45</td>\n",
       "    </tr>\n",
       "  </tbody>\n",
       "</table>\n",
       "</div>"
      ],
      "text/plain": [
       "  Receipt No.                                            Details  Paid In  \\\n",
       "0  SLO4NDVHNM  Customer Bundle Purchase to\\n244441SAFARICOM P...      NaN   \n",
       "1  SLO2NDIE0O  Funds received from -\\n2547******312 JACKLINE\\...     20.0   \n",
       "2  SLO0N0O1ZC                                    Pay Bill Charge      NaN   \n",
       "\n",
       "   Withdrawn  Balance        Date      Time  \n",
       "0       20.0      0.0  2024-12-24  12:00:00  \n",
       "1        NaN     20.0  2024-12-24  11:57:43  \n",
       "2        4.0      0.0  2024-12-24  10:36:45  "
      ]
     },
     "execution_count": 24,
     "metadata": {},
     "output_type": "execute_result"
    }
   ],
   "source": [
    "# Ensure the column is in string format\n",
    "data['Completion Time'] = data['Completion Time'].astype(str)\n",
    "\n",
    "# Split the 'Completion Time' column into 'Date' and 'Time'\n",
    "data[['Date', 'Time']] = data['Completion Time'].str.split(' ', expand=True)\n",
    "\n",
    "# Dropping unnecessary columns\n",
    "data.drop(columns=['Completion Time', 'Transaction Status'], inplace=True)\n",
    "data.head(3)"
   ]
  },
  {
   "cell_type": "code",
   "execution_count": 25,
   "id": "9f8d28c7",
   "metadata": {},
   "outputs": [],
   "source": [
    "data_copy = data.copy()\n",
    "data.to_csv('data.csv', index=False)"
   ]
  },
  {
   "cell_type": "markdown",
   "id": "4a1acf4a",
   "metadata": {},
   "source": [
    "# Feature engineering"
   ]
  },
  {
   "cell_type": "markdown",
   "id": "5a7ea657",
   "metadata": {},
   "source": [
    "### Function to filter rows based on multiple criterias"
   ]
  },
  {
   "cell_type": "code",
   "execution_count": 6,
   "id": "2e8894c9",
   "metadata": {},
   "outputs": [
    {
     "data": {
      "text/plain": [
       "'def filter_rows_by_multiple_criteria(transactions, criteria):\\n    import pandas as pd\\n    \"\"\"\\n    Filters rows in a DataFrame based on multiple criteria. Returns rows that match any of the specified criteria.\\n    \\n    Parameters:\\n        transactions (pd.DataFrame): The input DataFrame to be filtered.\\n        criteria (dict): A dictionary where keys are column names and values are substrings (single string or list of strings).\\n    \\n    Returns:\\n        pd.DataFrame: A filtered DataFrame containing rows that match any of the specified criteria.\\n    \"\"\"\\n    if not isinstance(criteria, dict):\\n        raise ValueError(\"Criteria must be provided as a dictionary with column names as keys and substrings as values.\")\\n    \\n    # Initialize an empty filter (all False)\\n    combined_filter = pd.Series(False, index=transactions.index)\\n    \\n    # Loop through each column and corresponding substrings\\n    for column, substrings in criteria.items():\\n        if column not in transactions.columns:\\n            raise ValueError(f\"Column \\'{column}\\' not found in the DataFrame.\")\\n        \\n        # Handle single substring or list of substrings\\n        if isinstance(substrings, list):\\n            column_filter = transactions[column].apply(lambda x: any(sub in str(x) for sub in substrings))\\n        else:\\n            column_filter = transactions[column].str.contains(substrings, case=False, na=False)\\n        \\n        # Combine the current filter with the overall filter (logical OR)\\n        combined_filter |= column_filter\\n    \\n    # Apply the combined filter to the DataFrame\\n    return transactions[combined_filter]'"
      ]
     },
     "execution_count": 6,
     "metadata": {},
     "output_type": "execute_result"
    }
   ],
   "source": [
    "'''def filter_rows_by_multiple_criteria(transactions, criteria):\n",
    "    import pandas as pd\n",
    "    \"\"\"\n",
    "    Filters rows in a DataFrame based on multiple criteria. Returns rows that match any of the specified criteria.\n",
    "    \n",
    "    Parameters:\n",
    "        transactions (pd.DataFrame): The input DataFrame to be filtered.\n",
    "        criteria (dict): A dictionary where keys are column names and values are substrings (single string or list of strings).\n",
    "    \n",
    "    Returns:\n",
    "        pd.DataFrame: A filtered DataFrame containing rows that match any of the specified criteria.\n",
    "    \"\"\"\n",
    "    if not isinstance(criteria, dict):\n",
    "        raise ValueError(\"Criteria must be provided as a dictionary with column names as keys and substrings as values.\")\n",
    "    \n",
    "    # Initialize an empty filter (all False)\n",
    "    combined_filter = pd.Series(False, index=transactions.index)\n",
    "    \n",
    "    # Loop through each column and corresponding substrings\n",
    "    for column, substrings in criteria.items():\n",
    "        if column not in transactions.columns:\n",
    "            raise ValueError(f\"Column '{column}' not found in the DataFrame.\")\n",
    "        \n",
    "        # Handle single substring or list of substrings\n",
    "        if isinstance(substrings, list):\n",
    "            column_filter = transactions[column].apply(lambda x: any(sub in str(x) for sub in substrings))\n",
    "        else:\n",
    "            column_filter = transactions[column].str.contains(substrings, case=False, na=False)\n",
    "        \n",
    "        # Combine the current filter with the overall filter (logical OR)\n",
    "        combined_filter |= column_filter\n",
    "    \n",
    "    # Apply the combined filter to the DataFrame\n",
    "    return transactions[combined_filter]'''"
   ]
  },
  {
   "cell_type": "markdown",
   "id": "ccd1540e",
   "metadata": {},
   "source": [
    "### Function to filter rows based on characters in a column"
   ]
  },
  {
   "cell_type": "code",
   "execution_count": null,
   "id": "c1a7b80b",
   "metadata": {},
   "outputs": [],
   "source": [
    "'''# Function to filter rows based on characters in a column\n",
    "def filter_rows_by_characters(transactions, column_name, substring):\n",
    "    # Filter rows where the column contains the specified substring\n",
    "    filtered_df = transactions[transactions[column_name].str.contains(substring, case=False, na=False)]\n",
    "    return filtered_df'''"
   ]
  },
  {
   "cell_type": "markdown",
   "id": "c19f3bfd",
   "metadata": {},
   "source": [
    "### Function for extracting phone numbers and names from rows."
   ]
  },
  {
   "cell_type": "code",
   "execution_count": 8,
   "id": "14f51033",
   "metadata": {},
   "outputs": [
    {
     "data": {
      "text/plain": [
       "'def extract_transaction_details_inplace(df, details_column=\\'Details\\', start_phrases=None):\\n    \"\"\"\\n    Extracts phone numbers and names from rows in the specified column that start with given phrases.\\n    Adds the extracted data as new columns to the original DataFrame.\\n\\n    Parameters:\\n        df (pd.DataFrame): The input DataFrame.\\n        details_column (str): The name of the column containing the transaction details.\\n        start_phrases (list): A list of phrases to filter rows (e.g., [\"Funds received from\", \"Customer Transfer to\"]).\\n\\n    Returns:\\n        pd.DataFrame: The updated DataFrame with new columns \\'Phone Number\\' and \\'Name\\'.\\n    \"\"\"\\n    if details_column not in df.columns:\\n        raise ValueError(f\"Column \\'{details_column}\\' not found in the DataFrame.\")\\n    \\n    if not start_phrases or not isinstance(start_phrases, list):\\n        raise ValueError(\"start_phrases must be a list of starting phrases (e.g., [\\'Funds received from\\']).\")\\n\\n    for phrase in start_phrases:\\n        # Filter rows starting with the specific phrase\\n        filtered_rows = df[details_column].str.startswith(phrase, na=False)\\n\\n        # Extract phone numbers (including masked numbers with asterisks)\\n        phone_numbers = df.loc[filtered_rows, details_column].str.extract(\\n            r\\'(07\\\\*{2,}\\\\d{3}|2547\\\\*{2,}\\\\d{3}|\\\\+2547\\\\*{2,}\\\\d{3}|07\\\\d{8}|254\\\\d{9}|\\\\+254\\\\d{9})\\'\\n        )[0]\\n        df.loc[filtered_rows, \\'Phone Number\\'] = phone_numbers\\n\\n        # Extract names based on the phrase\\n        if phrase == \"Funds received from\":\\n            names = df.loc[filtered_rows, details_column].str.extract(\\n                r\\'from\\\\s-\\\\s[\\\\d\\\\*\\\\+]+\\\\s([A-Za-z\\\\s]+)\\'\\n            )[0]\\n        elif phrase == \"Customer Transfer to\":\\n            names = df.loc[filtered_rows, details_column].str.extract(\\n                r\\'to\\\\s-\\\\s[\\\\d\\\\*\\\\+]+\\\\s([A-Za-z\\\\s]+)\\'\\n            )[0]\\n        else:\\n            names = None\\n\\n        # Assign extracted names to the DataFrame\\n        df.loc[filtered_rows, \\'Name\\'] = names\\n\\n    return df'"
      ]
     },
     "execution_count": 8,
     "metadata": {},
     "output_type": "execute_result"
    }
   ],
   "source": [
    "'''def extract_transaction_details_inplace(df, details_column='Details', start_phrases=None):\n",
    "    \"\"\"\n",
    "    Extracts phone numbers and names from rows in the specified column that start with given phrases.\n",
    "    Adds the extracted data as new columns to the original DataFrame.\n",
    "\n",
    "    Parameters:\n",
    "        df (pd.DataFrame): The input DataFrame.\n",
    "        details_column (str): The name of the column containing the transaction details.\n",
    "        start_phrases (list): A list of phrases to filter rows (e.g., [\"Funds received from\", \"Customer Transfer to\"]).\n",
    "\n",
    "    Returns:\n",
    "        pd.DataFrame: The updated DataFrame with new columns 'Phone Number' and 'Name'.\n",
    "    \"\"\"\n",
    "    if details_column not in df.columns:\n",
    "        raise ValueError(f\"Column '{details_column}' not found in the DataFrame.\")\n",
    "    \n",
    "    if not start_phrases or not isinstance(start_phrases, list):\n",
    "        raise ValueError(\"start_phrases must be a list of starting phrases (e.g., ['Funds received from']).\")\n",
    "\n",
    "    for phrase in start_phrases:\n",
    "        # Filter rows starting with the specific phrase\n",
    "        filtered_rows = df[details_column].str.startswith(phrase, na=False)\n",
    "\n",
    "        # Extract phone numbers (including masked numbers with asterisks)\n",
    "        phone_numbers = df.loc[filtered_rows, details_column].str.extract(\n",
    "            r'(07\\*{2,}\\d{3}|2547\\*{2,}\\d{3}|\\+2547\\*{2,}\\d{3}|07\\d{8}|254\\d{9}|\\+254\\d{9})'\n",
    "        )[0]\n",
    "        df.loc[filtered_rows, 'Phone Number'] = phone_numbers\n",
    "\n",
    "        # Extract names based on the phrase\n",
    "        if phrase == \"Funds received from\":\n",
    "            names = df.loc[filtered_rows, details_column].str.extract(\n",
    "                r'from\\s-\\s[\\d\\*\\+]+\\s([A-Za-z\\s]+)'\n",
    "            )[0]\n",
    "        elif phrase == \"Customer Transfer to\":\n",
    "            names = df.loc[filtered_rows, details_column].str.extract(\n",
    "                r'to\\s-\\s[\\d\\*\\+]+\\s([A-Za-z\\s]+)'\n",
    "            )[0]\n",
    "        else:\n",
    "            names = None\n",
    "\n",
    "        # Assign extracted names to the DataFrame\n",
    "        df.loc[filtered_rows, 'Name'] = names\n",
    "\n",
    "    return df'''"
   ]
  },
  {
   "cell_type": "markdown",
   "id": "c0ebd5f5",
   "metadata": {},
   "source": [
    "### Obtaining funds received and sent"
   ]
  },
  {
   "cell_type": "code",
   "execution_count": 26,
   "id": "3baaeacc",
   "metadata": {},
   "outputs": [],
   "source": [
    "# Filter criteria\n",
    "paid_in_criteria = {\n",
    "    'Withdrawn': ['nan']\n",
    "}\n",
    "transfer_out_criteria = {\n",
    "    'Paid In': ['nan']\n",
    "}"
   ]
  },
  {
   "cell_type": "code",
   "execution_count": 27,
   "id": "c98bf6ea",
   "metadata": {},
   "outputs": [
    {
     "name": "stdout",
     "output_type": "stream",
     "text": [
      "   Receipt No.                                            Details  Paid In  \\\n",
      "1   SLO2NDIE0O  Funds received from -\\n2547******312 JACKLINE\\...     20.0   \n",
      "6   SLN7KQ3LF7                                  M-Shwari Withdraw    250.0   \n",
      "8   SLN7KH7QC5  Promotion Payment from 763552\\n- BETIKA B2C vi...     70.0   \n",
      "12  SLN9KAY4QF  Promotion Payment from 763552\\n- BETIKA B2C vi...    100.0   \n",
      "16  SLN0JN219Q  Funds received from -\\n07******928 Shallon Man...    100.0   \n",
      "\n",
      "    Withdrawn  Balance        Date      Time  \n",
      "1         NaN     20.0  2024-12-24  11:57:43  \n",
      "6         NaN    286.0  2024-12-23  18:43:16  \n",
      "8         NaN     86.0  2024-12-23  17:58:54  \n",
      "12        NaN    600.0  2024-12-23  17:24:43  \n",
      "16        NaN    606.0  2024-12-23  14:54:10  \n"
     ]
    }
   ],
   "source": [
    "# Received funds\n",
    "paid_in_funds = utl.filter_rows_by_multiple_criteria(data_copy, paid_in_criteria)\n",
    "print(paid_in_funds.head())"
   ]
  },
  {
   "cell_type": "code",
   "execution_count": 28,
   "id": "df57d95e",
   "metadata": {},
   "outputs": [
    {
     "name": "stdout",
     "output_type": "stream",
     "text": [
      "  Receipt No.                                            Details  Paid In  \\\n",
      "0  SLO4NDVHNM  Customer Bundle Purchase to\\n244441SAFARICOM P...      NaN   \n",
      "2  SLO0N0O1ZC                                    Pay Bill Charge      NaN   \n",
      "3  SLO0N0O1ZC  Pay Bill Online to 290290 -\\nBETIKA Acc. 25474...      NaN   \n",
      "4  SLN6KQ99C0                 Customer Transfer of Funds\\nCharge      NaN   \n",
      "5  SLN6KQ99C0  Customer Transfer to -\\n07******179 Sharon che...      NaN   \n",
      "\n",
      "   Withdrawn  Balance        Date      Time  \n",
      "0       20.0      0.0  2024-12-24  12:00:00  \n",
      "2        4.0      0.0  2024-12-24  10:36:45  \n",
      "3       25.0      4.0  2024-12-24  10:36:45  \n",
      "4        7.0     29.0  2024-12-23  18:44:00  \n",
      "5      250.0     36.0  2024-12-23  18:44:00  \n"
     ]
    }
   ],
   "source": [
    "# Transfered funds\n",
    "transfer_out_funds = utl.filter_rows_by_multiple_criteria(data_copy, transfer_out_criteria)\n",
    "print(transfer_out_funds.head())"
   ]
  },
  {
   "cell_type": "code",
   "execution_count": 29,
   "id": "9fbc215a",
   "metadata": {},
   "outputs": [
    {
     "name": "stdout",
     "output_type": "stream",
     "text": [
      "Total incoming funds: ksh 259667.0\n"
     ]
    }
   ],
   "source": [
    "total_received = paid_in_funds['Paid In'].sum()\n",
    "print(f'Total incoming funds: ksh {total_received}')"
   ]
  },
  {
   "cell_type": "code",
   "execution_count": 30,
   "id": "282c78be",
   "metadata": {},
   "outputs": [
    {
     "name": "stdout",
     "output_type": "stream",
     "text": [
      "Total outgoing funds: ksh 260462.0\n"
     ]
    }
   ],
   "source": [
    "total_transfered = transfer_out_funds['Withdrawn'].sum()\n",
    "print(f'Total outgoing funds: ksh {total_transfered}')"
   ]
  },
  {
   "cell_type": "markdown",
   "id": "e2c23341",
   "metadata": {},
   "source": [
    "## Saving receipts and transfers in file"
   ]
  },
  {
   "cell_type": "code",
   "execution_count": 31,
   "id": "f238a50c",
   "metadata": {},
   "outputs": [],
   "source": [
    "paid_in_funds.to_csv('paid_in_funds.csv', index = False)"
   ]
  },
  {
   "cell_type": "code",
   "execution_count": 32,
   "id": "775cb869",
   "metadata": {},
   "outputs": [],
   "source": [
    "transfer_out_funds.to_csv('transfer_out_funds.csv', index = False)"
   ]
  },
  {
   "cell_type": "markdown",
   "id": "49ba7b0c",
   "metadata": {},
   "source": [
    "# Receipts processing"
   ]
  },
  {
   "cell_type": "markdown",
   "id": "28e5ef80",
   "metadata": {},
   "source": [
    "## Funds received through send money"
   ]
  },
  {
   "cell_type": "code",
   "execution_count": 33,
   "id": "2f9c782d",
   "metadata": {},
   "outputs": [],
   "source": [
    "received = pd.read_csv('paid_in_funds.csv')"
   ]
  },
  {
   "cell_type": "markdown",
   "id": "d1e47a6d",
   "metadata": {},
   "source": [
    "## Funds received by sent money search filter"
   ]
  },
  {
   "cell_type": "code",
   "execution_count": 34,
   "id": "134f43a6",
   "metadata": {},
   "outputs": [],
   "source": [
    "received_from_sent_money = utl.filter_rows_by_characters(received, 'Details', 'funds received from')"
   ]
  },
  {
   "cell_type": "code",
   "execution_count": 35,
   "id": "d8b27ff8",
   "metadata": {},
   "outputs": [
    {
     "name": "stdout",
     "output_type": "stream",
     "text": [
      "                                                    Paid In\n",
      "Details                                                    \n",
      "Funds received from -\\n07******305 NOAH CHIRCHIR    40660.0\n",
      "Funds received from -\\n2547******231 MERCY KORIR    39610.0\n",
      "Funds received from -\\n2547******222 noah chirchir  18731.0\n",
      "Funds received from -\\n2547******295 KIPROTICH\\...   4800.0\n",
      "Funds received from -\\n07******928 Shallon Mangera   4400.0\n",
      "Funds received from -\\n2547******069 Vincent Tonui   4270.0\n",
      "Funds received from -\\n07******849 Mercy Chepkoech   2520.0\n",
      "Funds received from -\\n07******873 Chelang'at K...   2470.0\n",
      "Funds received from -\\n2547******070 ROSE\\nCHEP...   2200.0\n",
      "Funds received from -\\n2547******992 EMMANUEL\\n...   2170.0\n",
      "Funds received from -\\n07******392 edna nyole        2100.0\n",
      "Funds received from -\\n2547******712 CHEPKIRUI\\...   2020.0\n",
      "Funds received from -\\n2547******208 Goldby Nya...   1945.0\n",
      "Funds received from -\\n2547******331 Terer Benj...   1530.0\n",
      "Funds received from -\\n2547******347 BENARD SIELE    1471.0\n",
      "Funds received from -\\n2547******330 GLADYS\\nCH...   1465.0\n",
      "Funds received from -\\n2547******593 Edna Nyole      1354.0\n",
      "Funds received from -\\n07******430 MERCY CHERONO     1238.0\n",
      "Funds received from -\\n07******459 Benard Siele      1119.0\n",
      "Funds received from -\\n2547******720 EVANS KORIR     1100.0\n"
     ]
    }
   ],
   "source": [
    "# Group by 'Details' to see total withdrawn per recipient/merchant\n",
    "received_grouped_by_details = received_from_sent_money.groupby('Details').agg({'Paid In': 'sum'}).sort_values(by='Paid In', ascending=False)\n",
    "print(received_grouped_by_details.head(20))"
   ]
  },
  {
   "cell_type": "markdown",
   "id": "b1b6a4ab",
   "metadata": {},
   "source": [
    "### Extracting name and phone number columns"
   ]
  },
  {
   "cell_type": "code",
   "execution_count": 36,
   "id": "1145f773",
   "metadata": {},
   "outputs": [],
   "source": [
    "# Applying the function\n",
    "start_phrases = [\"Funds received from\"]\n",
    "extract_df = utl.extract_transaction_details_inplace(received_from_sent_money, start_phrases=start_phrases)"
   ]
  },
  {
   "cell_type": "code",
   "execution_count": 21,
   "id": "09e5a93d",
   "metadata": {},
   "outputs": [
    {
     "data": {
      "text/html": [
       "<div>\n",
       "<style scoped>\n",
       "    .dataframe tbody tr th:only-of-type {\n",
       "        vertical-align: middle;\n",
       "    }\n",
       "\n",
       "    .dataframe tbody tr th {\n",
       "        vertical-align: top;\n",
       "    }\n",
       "\n",
       "    .dataframe thead th {\n",
       "        text-align: right;\n",
       "    }\n",
       "</style>\n",
       "<table border=\"1\" class=\"dataframe\">\n",
       "  <thead>\n",
       "    <tr style=\"text-align: right;\">\n",
       "      <th></th>\n",
       "      <th>Receipt No.</th>\n",
       "      <th>Completion Time</th>\n",
       "      <th>Details</th>\n",
       "      <th>Transaction Status</th>\n",
       "      <th>Paid In</th>\n",
       "      <th>Withdrawn</th>\n",
       "      <th>Balance</th>\n",
       "      <th>Phone Number</th>\n",
       "      <th>Name</th>\n",
       "    </tr>\n",
       "  </thead>\n",
       "  <tbody>\n",
       "    <tr>\n",
       "      <th>0</th>\n",
       "      <td>SLO2NDIE0O</td>\n",
       "      <td>2024-12-24 11:57:43</td>\n",
       "      <td>Funds received from -\\n2547******312 JACKLINE\\...</td>\n",
       "      <td>Completed</td>\n",
       "      <td>20.0</td>\n",
       "      <td>NaN</td>\n",
       "      <td>20.0</td>\n",
       "      <td>2547******312</td>\n",
       "      <td>JACKLINE\\nCHEPKOECH</td>\n",
       "    </tr>\n",
       "    <tr>\n",
       "      <th>4</th>\n",
       "      <td>SLN0JN219Q</td>\n",
       "      <td>2024-12-23 14:54:10</td>\n",
       "      <td>Funds received from -\\n07******928 Shallon Man...</td>\n",
       "      <td>Completed</td>\n",
       "      <td>100.0</td>\n",
       "      <td>NaN</td>\n",
       "      <td>606.0</td>\n",
       "      <td>07******928</td>\n",
       "      <td>Shallon Mangera</td>\n",
       "    </tr>\n",
       "    <tr>\n",
       "      <th>5</th>\n",
       "      <td>SLN8J4BBG2</td>\n",
       "      <td>2024-12-23 12:53:46</td>\n",
       "      <td>Funds received from -\\n2547******330 GLADYS\\nC...</td>\n",
       "      <td>Completed</td>\n",
       "      <td>500.0</td>\n",
       "      <td>NaN</td>\n",
       "      <td>506.0</td>\n",
       "      <td>2547******330</td>\n",
       "      <td>GLADYS\\nCHELANGAT</td>\n",
       "    </tr>\n",
       "  </tbody>\n",
       "</table>\n",
       "</div>"
      ],
      "text/plain": [
       "  Receipt No.      Completion Time  \\\n",
       "0  SLO2NDIE0O  2024-12-24 11:57:43   \n",
       "4  SLN0JN219Q  2024-12-23 14:54:10   \n",
       "5  SLN8J4BBG2  2024-12-23 12:53:46   \n",
       "\n",
       "                                             Details Transaction Status  \\\n",
       "0  Funds received from -\\n2547******312 JACKLINE\\...          Completed   \n",
       "4  Funds received from -\\n07******928 Shallon Man...          Completed   \n",
       "5  Funds received from -\\n2547******330 GLADYS\\nC...          Completed   \n",
       "\n",
       "   Paid In  Withdrawn  Balance   Phone Number                 Name  \n",
       "0     20.0        NaN     20.0  2547******312  JACKLINE\\nCHEPKOECH  \n",
       "4    100.0        NaN    606.0    07******928      Shallon Mangera  \n",
       "5    500.0        NaN    506.0  2547******330    GLADYS\\nCHELANGAT  "
      ]
     },
     "execution_count": 21,
     "metadata": {},
     "output_type": "execute_result"
    }
   ],
   "source": [
    "extract_df.head(3)"
   ]
  },
  {
   "cell_type": "code",
   "execution_count": 37,
   "id": "03dbae8d",
   "metadata": {},
   "outputs": [
    {
     "data": {
      "text/html": [
       "<div>\n",
       "<style scoped>\n",
       "    .dataframe tbody tr th:only-of-type {\n",
       "        vertical-align: middle;\n",
       "    }\n",
       "\n",
       "    .dataframe tbody tr th {\n",
       "        vertical-align: top;\n",
       "    }\n",
       "\n",
       "    .dataframe thead th {\n",
       "        text-align: right;\n",
       "    }\n",
       "</style>\n",
       "<table border=\"1\" class=\"dataframe\">\n",
       "  <thead>\n",
       "    <tr style=\"text-align: right;\">\n",
       "      <th></th>\n",
       "      <th>Receipt No.</th>\n",
       "      <th>Paid In</th>\n",
       "      <th>Date</th>\n",
       "      <th>Time</th>\n",
       "      <th>Phone Number</th>\n",
       "      <th>Name</th>\n",
       "    </tr>\n",
       "  </thead>\n",
       "  <tbody>\n",
       "    <tr>\n",
       "      <th>0</th>\n",
       "      <td>SLO2NDIE0O</td>\n",
       "      <td>20.0</td>\n",
       "      <td>2024-12-24</td>\n",
       "      <td>11:57:43</td>\n",
       "      <td>2547******312</td>\n",
       "      <td>JACKLINE\\nCHEPKOECH</td>\n",
       "    </tr>\n",
       "    <tr>\n",
       "      <th>4</th>\n",
       "      <td>SLN0JN219Q</td>\n",
       "      <td>100.0</td>\n",
       "      <td>2024-12-23</td>\n",
       "      <td>14:54:10</td>\n",
       "      <td>07******928</td>\n",
       "      <td>Shallon Mangera</td>\n",
       "    </tr>\n",
       "    <tr>\n",
       "      <th>5</th>\n",
       "      <td>SLN8J4BBG2</td>\n",
       "      <td>500.0</td>\n",
       "      <td>2024-12-23</td>\n",
       "      <td>12:53:46</td>\n",
       "      <td>2547******330</td>\n",
       "      <td>GLADYS\\nCHELANGAT</td>\n",
       "    </tr>\n",
       "  </tbody>\n",
       "</table>\n",
       "</div>"
      ],
      "text/plain": [
       "  Receipt No.  Paid In        Date      Time   Phone Number  \\\n",
       "0  SLO2NDIE0O     20.0  2024-12-24  11:57:43  2547******312   \n",
       "4  SLN0JN219Q    100.0  2024-12-23  14:54:10    07******928   \n",
       "5  SLN8J4BBG2    500.0  2024-12-23  12:53:46  2547******330   \n",
       "\n",
       "                  Name  \n",
       "0  JACKLINE\\nCHEPKOECH  \n",
       "4      Shallon Mangera  \n",
       "5    GLADYS\\nCHELANGAT  "
      ]
     },
     "execution_count": 37,
     "metadata": {},
     "output_type": "execute_result"
    }
   ],
   "source": [
    "# Drop the original 'Details' and 'Withdrawn' columns because they are no longer needed\n",
    "extract_df.drop(columns=['Details', 'Withdrawn', 'Balance'], errors='ignore', inplace=True)\n",
    "extract_df.head(3)"
   ]
  },
  {
   "cell_type": "code",
   "execution_count": 38,
   "id": "dcd0b76a",
   "metadata": {},
   "outputs": [
    {
     "data": {
      "text/html": [
       "<div>\n",
       "<style scoped>\n",
       "    .dataframe tbody tr th:only-of-type {\n",
       "        vertical-align: middle;\n",
       "    }\n",
       "\n",
       "    .dataframe tbody tr th {\n",
       "        vertical-align: top;\n",
       "    }\n",
       "\n",
       "    .dataframe thead th {\n",
       "        text-align: right;\n",
       "    }\n",
       "</style>\n",
       "<table border=\"1\" class=\"dataframe\">\n",
       "  <thead>\n",
       "    <tr style=\"text-align: right;\">\n",
       "      <th></th>\n",
       "      <th>Receipt No.</th>\n",
       "      <th>Date</th>\n",
       "      <th>Time</th>\n",
       "      <th>Phone Number</th>\n",
       "      <th>Name</th>\n",
       "      <th>Paid In</th>\n",
       "    </tr>\n",
       "  </thead>\n",
       "  <tbody>\n",
       "    <tr>\n",
       "      <th>0</th>\n",
       "      <td>SLO2NDIE0O</td>\n",
       "      <td>2024-12-24</td>\n",
       "      <td>11:57:43</td>\n",
       "      <td>2547******312</td>\n",
       "      <td>JACKLINE\\nCHEPKOECH</td>\n",
       "      <td>20.0</td>\n",
       "    </tr>\n",
       "    <tr>\n",
       "      <th>4</th>\n",
       "      <td>SLN0JN219Q</td>\n",
       "      <td>2024-12-23</td>\n",
       "      <td>14:54:10</td>\n",
       "      <td>07******928</td>\n",
       "      <td>Shallon Mangera</td>\n",
       "      <td>100.0</td>\n",
       "    </tr>\n",
       "    <tr>\n",
       "      <th>5</th>\n",
       "      <td>SLN8J4BBG2</td>\n",
       "      <td>2024-12-23</td>\n",
       "      <td>12:53:46</td>\n",
       "      <td>2547******330</td>\n",
       "      <td>GLADYS\\nCHELANGAT</td>\n",
       "      <td>500.0</td>\n",
       "    </tr>\n",
       "  </tbody>\n",
       "</table>\n",
       "</div>"
      ],
      "text/plain": [
       "  Receipt No.        Date      Time   Phone Number                 Name  \\\n",
       "0  SLO2NDIE0O  2024-12-24  11:57:43  2547******312  JACKLINE\\nCHEPKOECH   \n",
       "4  SLN0JN219Q  2024-12-23  14:54:10    07******928      Shallon Mangera   \n",
       "5  SLN8J4BBG2  2024-12-23  12:53:46  2547******330    GLADYS\\nCHELANGAT   \n",
       "\n",
       "   Paid In  \n",
       "0     20.0  \n",
       "4    100.0  \n",
       "5    500.0  "
      ]
     },
     "execution_count": 38,
     "metadata": {},
     "output_type": "execute_result"
    }
   ],
   "source": [
    "# Specify the desired column order\n",
    "desired_order = ['Receipt No.', 'Date', 'Time', 'Phone Number', 'Name', 'Paid In']\n",
    "\n",
    "# Reorder the DataFrame\n",
    "extract_df = extract_df[desired_order]\n",
    "extract_df.head(3)"
   ]
  },
  {
   "cell_type": "code",
   "execution_count": 39,
   "id": "da240834",
   "metadata": {},
   "outputs": [
    {
     "data": {
      "text/plain": [
       "(1097, 6)"
      ]
     },
     "execution_count": 39,
     "metadata": {},
     "output_type": "execute_result"
    }
   ],
   "source": [
    "extract_df.shape"
   ]
  },
  {
   "cell_type": "code",
   "execution_count": 40,
   "id": "7ffaabb5",
   "metadata": {},
   "outputs": [],
   "source": [
    "# save processed data into a csv file\n",
    "extract_df.to_csv('cleaned_received.csv', index=False)"
   ]
  },
  {
   "cell_type": "code",
   "execution_count": 41,
   "id": "18a1ea04",
   "metadata": {},
   "outputs": [],
   "source": [
    "clean_received = pd.read_csv('cleaned_received.csv')"
   ]
  },
  {
   "cell_type": "code",
   "execution_count": 42,
   "id": "60a5a8b5",
   "metadata": {},
   "outputs": [
    {
     "data": {
      "text/html": [
       "<div>\n",
       "<style scoped>\n",
       "    .dataframe tbody tr th:only-of-type {\n",
       "        vertical-align: middle;\n",
       "    }\n",
       "\n",
       "    .dataframe tbody tr th {\n",
       "        vertical-align: top;\n",
       "    }\n",
       "\n",
       "    .dataframe thead th {\n",
       "        text-align: right;\n",
       "    }\n",
       "</style>\n",
       "<table border=\"1\" class=\"dataframe\">\n",
       "  <thead>\n",
       "    <tr style=\"text-align: right;\">\n",
       "      <th></th>\n",
       "      <th>Receipt No.</th>\n",
       "      <th>Date</th>\n",
       "      <th>Time</th>\n",
       "      <th>Phone Number</th>\n",
       "      <th>Name</th>\n",
       "      <th>Paid In</th>\n",
       "    </tr>\n",
       "  </thead>\n",
       "  <tbody>\n",
       "    <tr>\n",
       "      <th>1022</th>\n",
       "      <td>SD99MIE6HH</td>\n",
       "      <td>2024-04-09</td>\n",
       "      <td>12:30:50</td>\n",
       "      <td>07******305</td>\n",
       "      <td>NOAH CHIRCHIR</td>\n",
       "      <td>12300.0</td>\n",
       "    </tr>\n",
       "    <tr>\n",
       "      <th>751</th>\n",
       "      <td>SI45FN1YOD</td>\n",
       "      <td>2024-09-04</td>\n",
       "      <td>18:50:44</td>\n",
       "      <td>2547******295</td>\n",
       "      <td>KIPROTICH\\nLANGAT</td>\n",
       "      <td>4000.0</td>\n",
       "    </tr>\n",
       "    <tr>\n",
       "      <th>800</th>\n",
       "      <td>SHN92N53W9</td>\n",
       "      <td>2024-08-23</td>\n",
       "      <td>19:32:30</td>\n",
       "      <td>2547******231</td>\n",
       "      <td>MERCY KORIR</td>\n",
       "      <td>4000.0</td>\n",
       "    </tr>\n",
       "    <tr>\n",
       "      <th>84</th>\n",
       "      <td>SL468LDD7O</td>\n",
       "      <td>2024-12-04</td>\n",
       "      <td>19:49:40</td>\n",
       "      <td>2547******222</td>\n",
       "      <td>noah chirchir</td>\n",
       "      <td>3500.0</td>\n",
       "    </tr>\n",
       "    <tr>\n",
       "      <th>773</th>\n",
       "      <td>SHS3KTGD0Z</td>\n",
       "      <td>2024-08-28</td>\n",
       "      <td>13:44:34</td>\n",
       "      <td>2547******231</td>\n",
       "      <td>MERCY KORIR</td>\n",
       "      <td>3300.0</td>\n",
       "    </tr>\n",
       "    <tr>\n",
       "      <th>725</th>\n",
       "      <td>SIB77D0JRL</td>\n",
       "      <td>2024-09-11</td>\n",
       "      <td>11:27:33</td>\n",
       "      <td>2547******231</td>\n",
       "      <td>MERCY KORIR</td>\n",
       "      <td>3200.0</td>\n",
       "    </tr>\n",
       "    <tr>\n",
       "      <th>874</th>\n",
       "      <td>SGC1H2K0K7</td>\n",
       "      <td>2024-07-12</td>\n",
       "      <td>19:54:59</td>\n",
       "      <td>2547******231</td>\n",
       "      <td>MERCY KORIR</td>\n",
       "      <td>3200.0</td>\n",
       "    </tr>\n",
       "    <tr>\n",
       "      <th>284</th>\n",
       "      <td>SKB0EXAB6G</td>\n",
       "      <td>2024-11-11</td>\n",
       "      <td>14:25:38</td>\n",
       "      <td>07******928</td>\n",
       "      <td>Shallon Mangera</td>\n",
       "      <td>3000.0</td>\n",
       "    </tr>\n",
       "    <tr>\n",
       "      <th>633</th>\n",
       "      <td>SIQ2XWAY76</td>\n",
       "      <td>2024-09-26</td>\n",
       "      <td>18:31:28</td>\n",
       "      <td>2547******231</td>\n",
       "      <td>MERCY KORIR</td>\n",
       "      <td>3000.0</td>\n",
       "    </tr>\n",
       "    <tr>\n",
       "      <th>39</th>\n",
       "      <td>SLE4FCUDDG</td>\n",
       "      <td>2024-12-14</td>\n",
       "      <td>12:18:42</td>\n",
       "      <td>2547******222</td>\n",
       "      <td>noah chirchir</td>\n",
       "      <td>2300.0</td>\n",
       "    </tr>\n",
       "  </tbody>\n",
       "</table>\n",
       "</div>"
      ],
      "text/plain": [
       "     Receipt No.        Date      Time   Phone Number               Name  \\\n",
       "1022  SD99MIE6HH  2024-04-09  12:30:50    07******305      NOAH CHIRCHIR   \n",
       "751   SI45FN1YOD  2024-09-04  18:50:44  2547******295  KIPROTICH\\nLANGAT   \n",
       "800   SHN92N53W9  2024-08-23  19:32:30  2547******231        MERCY KORIR   \n",
       "84    SL468LDD7O  2024-12-04  19:49:40  2547******222      noah chirchir   \n",
       "773   SHS3KTGD0Z  2024-08-28  13:44:34  2547******231        MERCY KORIR   \n",
       "725   SIB77D0JRL  2024-09-11  11:27:33  2547******231        MERCY KORIR   \n",
       "874   SGC1H2K0K7  2024-07-12  19:54:59  2547******231        MERCY KORIR   \n",
       "284   SKB0EXAB6G  2024-11-11  14:25:38    07******928    Shallon Mangera   \n",
       "633   SIQ2XWAY76  2024-09-26  18:31:28  2547******231        MERCY KORIR   \n",
       "39    SLE4FCUDDG  2024-12-14  12:18:42  2547******222      noah chirchir   \n",
       "\n",
       "      Paid In  \n",
       "1022  12300.0  \n",
       "751    4000.0  \n",
       "800    4000.0  \n",
       "84     3500.0  \n",
       "773    3300.0  \n",
       "725    3200.0  \n",
       "874    3200.0  \n",
       "284    3000.0  \n",
       "633    3000.0  \n",
       "39     2300.0  "
      ]
     },
     "execution_count": 42,
     "metadata": {},
     "output_type": "execute_result"
    }
   ],
   "source": [
    "# Sort the dataframe by paid in and date\n",
    "clean_received_sorted = clean_received.sort_values(by=['Paid In', 'Date'], ascending=[False, False])\n",
    "clean_received_sorted.head(10)"
   ]
  },
  {
   "cell_type": "code",
   "execution_count": 43,
   "id": "47ffa2d9",
   "metadata": {},
   "outputs": [],
   "source": [
    "clean_received_sorted.to_csv('clean_received_sorted.csv')"
   ]
  },
  {
   "cell_type": "code",
   "execution_count": 44,
   "id": "f8d5bed7",
   "metadata": {},
   "outputs": [
    {
     "name": "stdout",
     "output_type": "stream",
     "text": [
      "                                   Paid In\n",
      "Name                Phone Number          \n",
      "NOAH CHIRCHIR       07******305    40660.0\n",
      "MERCY KORIR         2547******231  39610.0\n",
      "noah chirchir       2547******222  18731.0\n",
      "KIPROTICH\\nLANGAT   2547******295   4800.0\n",
      "Shallon Mangera     07******928     4400.0\n",
      "Vincent Tonui       2547******069   4270.0\n",
      "Mercy Chepkoech     07******849     2520.0\n",
      "Chelang             07******873     2470.0\n",
      "ROSE\\nCHEPKWONY     2547******070   2200.0\n",
      "EMMANUEL\\nKIPKIRUI  2547******992   2170.0\n",
      "edna nyole          07******392     2100.0\n",
      "CHEPKIRUI\\nJOSPHINE 2547******712   2020.0\n",
      "Goldby Nyamora      2547******208   1945.0\n",
      "Terer Benjamin      2547******331   1530.0\n",
      "BENARD SIELE        2547******347   1471.0\n",
      "GLADYS\\nCHELANGAT   2547******330   1465.0\n",
      "Edna Nyole          2547******593   1354.0\n",
      "MERCY CHERONO       07******430     1238.0\n",
      "Benard Siele        07******459     1119.0\n",
      "EVANS KORIR         2547******720   1100.0\n"
     ]
    }
   ],
   "source": [
    "# Group by Name, phone number to see total paid in per recipient/merchant\n",
    "received_grouped_by_phone_number = clean_received.groupby(['Name','Phone Number']).agg({'Paid In': 'sum'}).sort_values(by='Paid In', ascending=False)\n",
    "print(received_grouped_by_phone_number.head(20))"
   ]
  },
  {
   "cell_type": "code",
   "execution_count": 45,
   "id": "464965fd",
   "metadata": {},
   "outputs": [],
   "source": [
    "# Saving grouped receipts by phone number\n",
    "received_grouped_by_phone_number.to_csv('received_grouped_by_phone_number.csv')"
   ]
  },
  {
   "cell_type": "markdown",
   "id": "54d5cf7e",
   "metadata": {},
   "source": [
    "# Transfers processing"
   ]
  },
  {
   "cell_type": "markdown",
   "id": "995cf443",
   "metadata": {},
   "source": [
    "## Transfers by send money"
   ]
  },
  {
   "cell_type": "code",
   "execution_count": 46,
   "id": "1d7326c6",
   "metadata": {},
   "outputs": [],
   "source": [
    "transfered = pd.read_csv('transfer_out_funds.csv')"
   ]
  },
  {
   "cell_type": "markdown",
   "id": "569d6962",
   "metadata": {},
   "source": [
    "## Funds transfer search filter"
   ]
  },
  {
   "cell_type": "code",
   "execution_count": 47,
   "id": "d25148bb",
   "metadata": {},
   "outputs": [],
   "source": [
    "transfer_by_send_money = utl.filter_rows_by_characters(transfered, 'Details', 'customer transfer to')"
   ]
  },
  {
   "cell_type": "markdown",
   "id": "9f8e42c4",
   "metadata": {},
   "source": [
    "## Funds transfered through send money"
   ]
  },
  {
   "cell_type": "code",
   "execution_count": 48,
   "id": "2d90093d",
   "metadata": {},
   "outputs": [
    {
     "name": "stdout",
     "output_type": "stream",
     "text": [
      "                                                    Withdrawn\n",
      "Details                                                      \n",
      "Customer Transfer to -\\n2547******589 JANES\\nNY...     6140.0\n",
      "Customer Transfer to -\\n07******179 Sharon cheptoo     5645.0\n",
      "Customer Transfer to -\\n2547******724 KIPNGENO ...     4455.0\n",
      "Customer Transfer to -\\n2547******069 Vincent T...     4294.0\n",
      "Customer Transfer to -\\n07******430 MERCY CHERONO      4255.0\n",
      "Customer Transfer to -\\n2547******320 Collins K...     3412.0\n",
      "Customer Transfer to -\\n2547******593 Edna Nyole       3035.0\n",
      "Customer Transfer to -\\n07******849 Mercy Chepk...     2650.0\n",
      "Customer Transfer to -\\n2547******312 JACKLINE\\...     2650.0\n",
      "Customer Transfer to -\\n2547******992 EMMANUEL\\...     2320.0\n"
     ]
    }
   ],
   "source": [
    "# Group by 'Details' to see total withdrawn per recipient/merchant\n",
    "transfer_grouped_by_details = transfer_by_send_money.groupby('Details').agg({'Withdrawn': 'sum'}).sort_values(by='Withdrawn', ascending=False)\n",
    "print(transfer_grouped_by_details.head(10))"
   ]
  },
  {
   "cell_type": "code",
   "execution_count": 50,
   "id": "7818a5cb",
   "metadata": {},
   "outputs": [
    {
     "data": {
      "text/html": [
       "<div>\n",
       "<style scoped>\n",
       "    .dataframe tbody tr th:only-of-type {\n",
       "        vertical-align: middle;\n",
       "    }\n",
       "\n",
       "    .dataframe tbody tr th {\n",
       "        vertical-align: top;\n",
       "    }\n",
       "\n",
       "    .dataframe thead th {\n",
       "        text-align: right;\n",
       "    }\n",
       "</style>\n",
       "<table border=\"1\" class=\"dataframe\">\n",
       "  <thead>\n",
       "    <tr style=\"text-align: right;\">\n",
       "      <th></th>\n",
       "      <th>Receipt No.</th>\n",
       "      <th>Details</th>\n",
       "      <th>Paid In</th>\n",
       "      <th>Withdrawn</th>\n",
       "      <th>Balance</th>\n",
       "      <th>Date</th>\n",
       "      <th>Time</th>\n",
       "      <th>Phone Number</th>\n",
       "      <th>Name</th>\n",
       "    </tr>\n",
       "  </thead>\n",
       "  <tbody>\n",
       "    <tr>\n",
       "      <th>4</th>\n",
       "      <td>SLN6KQ99C0</td>\n",
       "      <td>Customer Transfer to -\\n07******179 Sharon che...</td>\n",
       "      <td>NaN</td>\n",
       "      <td>250.0</td>\n",
       "      <td>36.0</td>\n",
       "      <td>2024-12-23</td>\n",
       "      <td>18:44:00</td>\n",
       "      <td>07******179</td>\n",
       "      <td>Sharon cheptoo</td>\n",
       "    </tr>\n",
       "    <tr>\n",
       "      <th>18</th>\n",
       "      <td>SLM0GXACT0</td>\n",
       "      <td>Customer Transfer to -\\n2547******992 EMMANUEL...</td>\n",
       "      <td>NaN</td>\n",
       "      <td>20.0</td>\n",
       "      <td>57.0</td>\n",
       "      <td>2024-12-22</td>\n",
       "      <td>20:09:34</td>\n",
       "      <td>2547******992</td>\n",
       "      <td>EMMANUEL\\nKIPKIRUI</td>\n",
       "    </tr>\n",
       "    <tr>\n",
       "      <th>19</th>\n",
       "      <td>SLM9GOA1JJ</td>\n",
       "      <td>Customer Transfer to -\\n2547******571 BETTY CH...</td>\n",
       "      <td>NaN</td>\n",
       "      <td>40.0</td>\n",
       "      <td>77.0</td>\n",
       "      <td>2024-12-22</td>\n",
       "      <td>19:26:05</td>\n",
       "      <td>2547******571</td>\n",
       "      <td>BETTY CHERUYOT</td>\n",
       "    </tr>\n",
       "  </tbody>\n",
       "</table>\n",
       "</div>"
      ],
      "text/plain": [
       "   Receipt No.                                            Details  Paid In  \\\n",
       "4   SLN6KQ99C0  Customer Transfer to -\\n07******179 Sharon che...      NaN   \n",
       "18  SLM0GXACT0  Customer Transfer to -\\n2547******992 EMMANUEL...      NaN   \n",
       "19  SLM9GOA1JJ  Customer Transfer to -\\n2547******571 BETTY CH...      NaN   \n",
       "\n",
       "    Withdrawn  Balance        Date      Time   Phone Number  \\\n",
       "4       250.0     36.0  2024-12-23  18:44:00    07******179   \n",
       "18       20.0     57.0  2024-12-22  20:09:34  2547******992   \n",
       "19       40.0     77.0  2024-12-22  19:26:05  2547******571   \n",
       "\n",
       "                  Name  \n",
       "4       Sharon cheptoo  \n",
       "18  EMMANUEL\\nKIPKIRUI  \n",
       "19      BETTY CHERUYOT  "
      ]
     },
     "execution_count": 50,
     "metadata": {},
     "output_type": "execute_result"
    }
   ],
   "source": [
    "start_phrases = [\"Customer Transfer to\"]\n",
    "transfer_df = utl.extract_transaction_details_inplace(transfer_by_send_money, start_phrases=start_phrases)\n",
    "transfer_df.head(3)"
   ]
  },
  {
   "cell_type": "code",
   "execution_count": 51,
   "id": "b6e40009",
   "metadata": {},
   "outputs": [
    {
     "data": {
      "text/html": [
       "<div>\n",
       "<style scoped>\n",
       "    .dataframe tbody tr th:only-of-type {\n",
       "        vertical-align: middle;\n",
       "    }\n",
       "\n",
       "    .dataframe tbody tr th {\n",
       "        vertical-align: top;\n",
       "    }\n",
       "\n",
       "    .dataframe thead th {\n",
       "        text-align: right;\n",
       "    }\n",
       "</style>\n",
       "<table border=\"1\" class=\"dataframe\">\n",
       "  <thead>\n",
       "    <tr style=\"text-align: right;\">\n",
       "      <th></th>\n",
       "      <th>Receipt No.</th>\n",
       "      <th>Withdrawn</th>\n",
       "      <th>Balance</th>\n",
       "      <th>Date</th>\n",
       "      <th>Time</th>\n",
       "      <th>Phone Number</th>\n",
       "      <th>Name</th>\n",
       "    </tr>\n",
       "  </thead>\n",
       "  <tbody>\n",
       "    <tr>\n",
       "      <th>4</th>\n",
       "      <td>SLN6KQ99C0</td>\n",
       "      <td>250.0</td>\n",
       "      <td>36.0</td>\n",
       "      <td>2024-12-23</td>\n",
       "      <td>18:44:00</td>\n",
       "      <td>07******179</td>\n",
       "      <td>Sharon cheptoo</td>\n",
       "    </tr>\n",
       "    <tr>\n",
       "      <th>18</th>\n",
       "      <td>SLM0GXACT0</td>\n",
       "      <td>20.0</td>\n",
       "      <td>57.0</td>\n",
       "      <td>2024-12-22</td>\n",
       "      <td>20:09:34</td>\n",
       "      <td>2547******992</td>\n",
       "      <td>EMMANUEL\\nKIPKIRUI</td>\n",
       "    </tr>\n",
       "    <tr>\n",
       "      <th>19</th>\n",
       "      <td>SLM9GOA1JJ</td>\n",
       "      <td>40.0</td>\n",
       "      <td>77.0</td>\n",
       "      <td>2024-12-22</td>\n",
       "      <td>19:26:05</td>\n",
       "      <td>2547******571</td>\n",
       "      <td>BETTY CHERUYOT</td>\n",
       "    </tr>\n",
       "  </tbody>\n",
       "</table>\n",
       "</div>"
      ],
      "text/plain": [
       "   Receipt No.  Withdrawn  Balance        Date      Time   Phone Number  \\\n",
       "4   SLN6KQ99C0      250.0     36.0  2024-12-23  18:44:00    07******179   \n",
       "18  SLM0GXACT0       20.0     57.0  2024-12-22  20:09:34  2547******992   \n",
       "19  SLM9GOA1JJ       40.0     77.0  2024-12-22  19:26:05  2547******571   \n",
       "\n",
       "                  Name  \n",
       "4       Sharon cheptoo  \n",
       "18  EMMANUEL\\nKIPKIRUI  \n",
       "19      BETTY CHERUYOT  "
      ]
     },
     "execution_count": 51,
     "metadata": {},
     "output_type": "execute_result"
    }
   ],
   "source": [
    "# Drop the original 'Details' and 'Transaction Status' columns because they are no longer needed\n",
    "transfer_df.drop(columns=['Details', 'Paid In'], errors='ignore', inplace=True)\n",
    "transfer_df.head(3)"
   ]
  },
  {
   "cell_type": "code",
   "execution_count": 52,
   "id": "30b276c3",
   "metadata": {},
   "outputs": [
    {
     "data": {
      "text/html": [
       "<div>\n",
       "<style scoped>\n",
       "    .dataframe tbody tr th:only-of-type {\n",
       "        vertical-align: middle;\n",
       "    }\n",
       "\n",
       "    .dataframe tbody tr th {\n",
       "        vertical-align: top;\n",
       "    }\n",
       "\n",
       "    .dataframe thead th {\n",
       "        text-align: right;\n",
       "    }\n",
       "</style>\n",
       "<table border=\"1\" class=\"dataframe\">\n",
       "  <thead>\n",
       "    <tr style=\"text-align: right;\">\n",
       "      <th></th>\n",
       "      <th>Receipt No.</th>\n",
       "      <th>Date</th>\n",
       "      <th>Time</th>\n",
       "      <th>Phone Number</th>\n",
       "      <th>Name</th>\n",
       "      <th>Withdrawn</th>\n",
       "    </tr>\n",
       "  </thead>\n",
       "  <tbody>\n",
       "    <tr>\n",
       "      <th>4</th>\n",
       "      <td>SLN6KQ99C0</td>\n",
       "      <td>2024-12-23</td>\n",
       "      <td>18:44:00</td>\n",
       "      <td>07******179</td>\n",
       "      <td>Sharon cheptoo</td>\n",
       "      <td>250.0</td>\n",
       "    </tr>\n",
       "    <tr>\n",
       "      <th>18</th>\n",
       "      <td>SLM0GXACT0</td>\n",
       "      <td>2024-12-22</td>\n",
       "      <td>20:09:34</td>\n",
       "      <td>2547******992</td>\n",
       "      <td>EMMANUEL\\nKIPKIRUI</td>\n",
       "      <td>20.0</td>\n",
       "    </tr>\n",
       "    <tr>\n",
       "      <th>19</th>\n",
       "      <td>SLM9GOA1JJ</td>\n",
       "      <td>2024-12-22</td>\n",
       "      <td>19:26:05</td>\n",
       "      <td>2547******571</td>\n",
       "      <td>BETTY CHERUYOT</td>\n",
       "      <td>40.0</td>\n",
       "    </tr>\n",
       "  </tbody>\n",
       "</table>\n",
       "</div>"
      ],
      "text/plain": [
       "   Receipt No.        Date      Time   Phone Number                Name  \\\n",
       "4   SLN6KQ99C0  2024-12-23  18:44:00    07******179      Sharon cheptoo   \n",
       "18  SLM0GXACT0  2024-12-22  20:09:34  2547******992  EMMANUEL\\nKIPKIRUI   \n",
       "19  SLM9GOA1JJ  2024-12-22  19:26:05  2547******571      BETTY CHERUYOT   \n",
       "\n",
       "    Withdrawn  \n",
       "4       250.0  \n",
       "18       20.0  \n",
       "19       40.0  "
      ]
     },
     "execution_count": 52,
     "metadata": {},
     "output_type": "execute_result"
    }
   ],
   "source": [
    "# Specify the desired column order\n",
    "desired_order = ['Receipt No.', 'Date', 'Time', 'Phone Number', 'Name', 'Withdrawn']\n",
    "\n",
    "# Reorder the DataFrame\n",
    "transfer_df = transfer_df[desired_order]\n",
    "transfer_df.head(3)"
   ]
  },
  {
   "cell_type": "code",
   "execution_count": 53,
   "id": "1ac33945",
   "metadata": {},
   "outputs": [
    {
     "data": {
      "text/plain": [
       "(1072, 6)"
      ]
     },
     "execution_count": 53,
     "metadata": {},
     "output_type": "execute_result"
    }
   ],
   "source": [
    "transfer_df.shape"
   ]
  },
  {
   "cell_type": "code",
   "execution_count": 54,
   "id": "5af9f1cf",
   "metadata": {},
   "outputs": [],
   "source": [
    "# save processed data into a csv file\n",
    "transfer_df.to_csv('cleaned_transfered.csv', index=False)"
   ]
  },
  {
   "cell_type": "code",
   "execution_count": 55,
   "id": "6748c470",
   "metadata": {},
   "outputs": [],
   "source": [
    "clean_transfered = pd.read_csv('cleaned_transfered.csv')"
   ]
  },
  {
   "cell_type": "code",
   "execution_count": 56,
   "id": "84bee2b9",
   "metadata": {},
   "outputs": [
    {
     "data": {
      "text/html": [
       "<div>\n",
       "<style scoped>\n",
       "    .dataframe tbody tr th:only-of-type {\n",
       "        vertical-align: middle;\n",
       "    }\n",
       "\n",
       "    .dataframe tbody tr th {\n",
       "        vertical-align: top;\n",
       "    }\n",
       "\n",
       "    .dataframe thead th {\n",
       "        text-align: right;\n",
       "    }\n",
       "</style>\n",
       "<table border=\"1\" class=\"dataframe\">\n",
       "  <thead>\n",
       "    <tr style=\"text-align: right;\">\n",
       "      <th></th>\n",
       "      <th>Receipt No.</th>\n",
       "      <th>Date</th>\n",
       "      <th>Time</th>\n",
       "      <th>Phone Number</th>\n",
       "      <th>Name</th>\n",
       "      <th>Withdrawn</th>\n",
       "    </tr>\n",
       "  </thead>\n",
       "  <tbody>\n",
       "    <tr>\n",
       "      <th>794</th>\n",
       "      <td>SF70P46LPO</td>\n",
       "      <td>2024-06-07</td>\n",
       "      <td>11:55:46</td>\n",
       "      <td>07******849</td>\n",
       "      <td>Mercy Chepkoech</td>\n",
       "      <td>1550.0</td>\n",
       "    </tr>\n",
       "    <tr>\n",
       "      <th>966</th>\n",
       "      <td>SD94NUVWWG</td>\n",
       "      <td>2024-04-09</td>\n",
       "      <td>18:26:07</td>\n",
       "      <td>07******438</td>\n",
       "      <td>HILLARY ROTICH</td>\n",
       "      <td>1450.0</td>\n",
       "    </tr>\n",
       "    <tr>\n",
       "      <th>259</th>\n",
       "      <td>SK20AEOZQG</td>\n",
       "      <td>2024-11-02</td>\n",
       "      <td>10:30:55</td>\n",
       "      <td>07******430</td>\n",
       "      <td>MERCY CHERONO</td>\n",
       "      <td>1300.0</td>\n",
       "    </tr>\n",
       "    <tr>\n",
       "      <th>667</th>\n",
       "      <td>SGR12CA345</td>\n",
       "      <td>2024-07-27</td>\n",
       "      <td>19:18:07</td>\n",
       "      <td>2547******741</td>\n",
       "      <td>Bishara Nunow</td>\n",
       "      <td>1200.0</td>\n",
       "    </tr>\n",
       "    <tr>\n",
       "      <th>87</th>\n",
       "      <td>SL76M10KU8</td>\n",
       "      <td>2024-12-07</td>\n",
       "      <td>19:17:54</td>\n",
       "      <td>2547******231</td>\n",
       "      <td>MERCY KORIR</td>\n",
       "      <td>1000.0</td>\n",
       "    </tr>\n",
       "    <tr>\n",
       "      <th>242</th>\n",
       "      <td>SK925VH3FG</td>\n",
       "      <td>2024-11-09</td>\n",
       "      <td>11:16:39</td>\n",
       "      <td>07******301</td>\n",
       "      <td>Jackline Onyancha</td>\n",
       "      <td>1000.0</td>\n",
       "    </tr>\n",
       "    <tr>\n",
       "      <th>740</th>\n",
       "      <td>SFT92B0UID</td>\n",
       "      <td>2024-06-29</td>\n",
       "      <td>20:12:01</td>\n",
       "      <td>07******849</td>\n",
       "      <td>Mercy Chepkoech</td>\n",
       "      <td>1000.0</td>\n",
       "    </tr>\n",
       "    <tr>\n",
       "      <th>914</th>\n",
       "      <td>SDJ4OUACF8</td>\n",
       "      <td>2024-04-19</td>\n",
       "      <td>18:30:03</td>\n",
       "      <td>2547******951</td>\n",
       "      <td>Philip Embenzi</td>\n",
       "      <td>1000.0</td>\n",
       "    </tr>\n",
       "    <tr>\n",
       "      <th>971</th>\n",
       "      <td>SD96MK2TA8</td>\n",
       "      <td>2024-04-09</td>\n",
       "      <td>12:44:34</td>\n",
       "      <td>2547******320</td>\n",
       "      <td>Collins Kipkorir</td>\n",
       "      <td>1000.0</td>\n",
       "    </tr>\n",
       "    <tr>\n",
       "      <th>972</th>\n",
       "      <td>SD91MJXRM3</td>\n",
       "      <td>2024-04-09</td>\n",
       "      <td>12:43:22</td>\n",
       "      <td>2547******320</td>\n",
       "      <td>Collins Kipkorir</td>\n",
       "      <td>1000.0</td>\n",
       "    </tr>\n",
       "  </tbody>\n",
       "</table>\n",
       "</div>"
      ],
      "text/plain": [
       "    Receipt No.        Date      Time   Phone Number               Name  \\\n",
       "794  SF70P46LPO  2024-06-07  11:55:46    07******849    Mercy Chepkoech   \n",
       "966  SD94NUVWWG  2024-04-09  18:26:07    07******438     HILLARY ROTICH   \n",
       "259  SK20AEOZQG  2024-11-02  10:30:55    07******430      MERCY CHERONO   \n",
       "667  SGR12CA345  2024-07-27  19:18:07  2547******741      Bishara Nunow   \n",
       "87   SL76M10KU8  2024-12-07  19:17:54  2547******231        MERCY KORIR   \n",
       "242  SK925VH3FG  2024-11-09  11:16:39    07******301  Jackline Onyancha   \n",
       "740  SFT92B0UID  2024-06-29  20:12:01    07******849    Mercy Chepkoech   \n",
       "914  SDJ4OUACF8  2024-04-19  18:30:03  2547******951     Philip Embenzi   \n",
       "971  SD96MK2TA8  2024-04-09  12:44:34  2547******320   Collins Kipkorir   \n",
       "972  SD91MJXRM3  2024-04-09  12:43:22  2547******320   Collins Kipkorir   \n",
       "\n",
       "     Withdrawn  \n",
       "794     1550.0  \n",
       "966     1450.0  \n",
       "259     1300.0  \n",
       "667     1200.0  \n",
       "87      1000.0  \n",
       "242     1000.0  \n",
       "740     1000.0  \n",
       "914     1000.0  \n",
       "971     1000.0  \n",
       "972     1000.0  "
      ]
     },
     "execution_count": 56,
     "metadata": {},
     "output_type": "execute_result"
    }
   ],
   "source": [
    "# Sort the dataframe by paid in and date\n",
    "clean_transfered_sorted = clean_transfered.sort_values(by=['Withdrawn', 'Date'], ascending=[False, False])\n",
    "clean_transfered_sorted.head(10)"
   ]
  },
  {
   "cell_type": "code",
   "execution_count": 57,
   "id": "6b8d405c",
   "metadata": {},
   "outputs": [],
   "source": [
    "clean_transfered_sorted.to_csv('clean_transfered_sorted.csv')"
   ]
  },
  {
   "cell_type": "code",
   "execution_count": 58,
   "id": "9a6aadb6",
   "metadata": {},
   "outputs": [
    {
     "name": "stdout",
     "output_type": "stream",
     "text": [
      "                                   Withdrawn\n",
      "Name                Phone Number            \n",
      "JANES\\nNYAMONGO     2547******589     6140.0\n",
      "Sharon cheptoo      07******179       5645.0\n",
      "KIPNGENO SIGEI      2547******724     4455.0\n",
      "Vincent Tonui       2547******069     4294.0\n",
      "MERCY CHERONO       07******430       4255.0\n",
      "Collins Kipkorir    2547******320     3412.0\n",
      "Edna Nyole          2547******593     3035.0\n",
      "Mercy Chepkoech     07******849       2650.0\n",
      "JACKLINE\\nCHEPKOECH 2547******312     2650.0\n",
      "EMMANUEL\\nKIPKIRUI  2547******992     2320.0\n",
      "noah chirchir       2547******222     2010.0\n",
      "HARON MOGARU        07******620       1789.0\n",
      "edna nyole          07******392       1780.0\n",
      "Aron rotich         2547******149     1520.0\n",
      "MERCY KORIR         2547******231     1500.0\n",
      "HILLARY ROTICH      07******438       1450.0\n",
      "JOHN KOBEI          2547******181     1240.0\n",
      "Bishara Nunow       2547******741     1200.0\n",
      "Judy Bosuben        07******311       1020.0\n",
      "Goldby Nyamora      2547******208     1020.0\n"
     ]
    }
   ],
   "source": [
    "# Group by Name, phone number to see total paid in per recipient/merchant\n",
    "transfered_grouped_by_phone_number = clean_transfered.groupby(['Name','Phone Number']).agg({'Withdrawn': 'sum'}).sort_values(by='Withdrawn', ascending=False)\n",
    "print(transfered_grouped_by_phone_number.head(20))"
   ]
  },
  {
   "cell_type": "code",
   "execution_count": 59,
   "id": "749dd7a6",
   "metadata": {},
   "outputs": [],
   "source": [
    "transfered_grouped_by_phone_number.to_csv('transfered_grouped_by_phone_number.csv')"
   ]
  },
  {
   "cell_type": "markdown",
   "id": "e374e225",
   "metadata": {},
   "source": [
    "# Direct deposits"
   ]
  },
  {
   "cell_type": "code",
   "execution_count": 99,
   "id": "f56f1aa7",
   "metadata": {},
   "outputs": [
    {
     "data": {
      "text/html": [
       "<div>\n",
       "<style scoped>\n",
       "    .dataframe tbody tr th:only-of-type {\n",
       "        vertical-align: middle;\n",
       "    }\n",
       "\n",
       "    .dataframe tbody tr th {\n",
       "        vertical-align: top;\n",
       "    }\n",
       "\n",
       "    .dataframe thead th {\n",
       "        text-align: right;\n",
       "    }\n",
       "</style>\n",
       "<table border=\"1\" class=\"dataframe\">\n",
       "  <thead>\n",
       "    <tr style=\"text-align: right;\">\n",
       "      <th></th>\n",
       "      <th>Receipt No.</th>\n",
       "      <th>Details</th>\n",
       "      <th>Paid In</th>\n",
       "      <th>Withdrawn</th>\n",
       "      <th>Balance</th>\n",
       "      <th>Date</th>\n",
       "      <th>Time</th>\n",
       "    </tr>\n",
       "  </thead>\n",
       "  <tbody>\n",
       "    <tr>\n",
       "      <th>66</th>\n",
       "      <td>SLF6M02OPS</td>\n",
       "      <td>Deposit of Funds at Agent Till\\n779076 - SEMIG...</td>\n",
       "      <td>100.0</td>\n",
       "      <td>NaN</td>\n",
       "      <td>194.0</td>\n",
       "      <td>2024-12-15</td>\n",
       "      <td>21:32:48</td>\n",
       "    </tr>\n",
       "    <tr>\n",
       "      <th>81</th>\n",
       "      <td>SLE4HUFJ9E</td>\n",
       "      <td>Deposit of Funds at Agent Till\\n779076 - SEMIG...</td>\n",
       "      <td>600.0</td>\n",
       "      <td>NaN</td>\n",
       "      <td>700.0</td>\n",
       "      <td>2024-12-14</td>\n",
       "      <td>20:58:42</td>\n",
       "    </tr>\n",
       "    <tr>\n",
       "      <th>87</th>\n",
       "      <td>SLE4H56ORA</td>\n",
       "      <td>Deposit of Funds at Agent Till\\n135809 - Davis...</td>\n",
       "      <td>50.0</td>\n",
       "      <td>NaN</td>\n",
       "      <td>100.0</td>\n",
       "      <td>2024-12-14</td>\n",
       "      <td>19:01:52</td>\n",
       "    </tr>\n",
       "  </tbody>\n",
       "</table>\n",
       "</div>"
      ],
      "text/plain": [
       "   Receipt No.                                            Details  Paid In  \\\n",
       "66  SLF6M02OPS  Deposit of Funds at Agent Till\\n779076 - SEMIG...    100.0   \n",
       "81  SLE4HUFJ9E  Deposit of Funds at Agent Till\\n779076 - SEMIG...    600.0   \n",
       "87  SLE4H56ORA  Deposit of Funds at Agent Till\\n135809 - Davis...     50.0   \n",
       "\n",
       "    Withdrawn  Balance        Date      Time  \n",
       "66        NaN    194.0  2024-12-15  21:32:48  \n",
       "81        NaN    700.0  2024-12-14  20:58:42  \n",
       "87        NaN    100.0  2024-12-14  19:01:52  "
      ]
     },
     "execution_count": 99,
     "metadata": {},
     "output_type": "execute_result"
    }
   ],
   "source": [
    "deposits = utl.filter_rows_by_characters(received, 'Details', 'deposit of funds')\n",
    "deposits.head(3)"
   ]
  },
  {
   "cell_type": "code",
   "execution_count": 100,
   "id": "df32bc0d",
   "metadata": {},
   "outputs": [
    {
     "data": {
      "text/plain": [
       "(46, 7)"
      ]
     },
     "execution_count": 100,
     "metadata": {},
     "output_type": "execute_result"
    }
   ],
   "source": [
    "deposits.shape"
   ]
  },
  {
   "cell_type": "code",
   "execution_count": 101,
   "id": "59705120",
   "metadata": {},
   "outputs": [],
   "source": [
    "deposits.to_csv('direct_deposits.csv')"
   ]
  },
  {
   "cell_type": "code",
   "execution_count": 102,
   "id": "f11b8076",
   "metadata": {},
   "outputs": [],
   "source": [
    "direct_deposits = pd.read_csv('direct_deposits.csv')"
   ]
  },
  {
   "cell_type": "code",
   "execution_count": 103,
   "id": "6a63a124",
   "metadata": {},
   "outputs": [
    {
     "data": {
      "text/html": [
       "<div>\n",
       "<style scoped>\n",
       "    .dataframe tbody tr th:only-of-type {\n",
       "        vertical-align: middle;\n",
       "    }\n",
       "\n",
       "    .dataframe tbody tr th {\n",
       "        vertical-align: top;\n",
       "    }\n",
       "\n",
       "    .dataframe thead th {\n",
       "        text-align: right;\n",
       "    }\n",
       "</style>\n",
       "<table border=\"1\" class=\"dataframe\">\n",
       "  <thead>\n",
       "    <tr style=\"text-align: right;\">\n",
       "      <th></th>\n",
       "      <th>Unnamed: 0</th>\n",
       "      <th>Receipt No.</th>\n",
       "      <th>Details</th>\n",
       "      <th>Paid In</th>\n",
       "      <th>Withdrawn</th>\n",
       "      <th>Balance</th>\n",
       "      <th>Date</th>\n",
       "      <th>Time</th>\n",
       "      <th>Agent Till</th>\n",
       "      <th>Agent Name</th>\n",
       "    </tr>\n",
       "  </thead>\n",
       "  <tbody>\n",
       "    <tr>\n",
       "      <th>0</th>\n",
       "      <td>66</td>\n",
       "      <td>SLF6M02OPS</td>\n",
       "      <td>Deposit of Funds at Agent Till\\n779076 - SEMIG...</td>\n",
       "      <td>100.0</td>\n",
       "      <td>NaN</td>\n",
       "      <td>194.0</td>\n",
       "      <td>2024-12-15</td>\n",
       "      <td>21:32:48</td>\n",
       "      <td>779076</td>\n",
       "      <td>SEMIGRAN COMM ENTS</td>\n",
       "    </tr>\n",
       "    <tr>\n",
       "      <th>1</th>\n",
       "      <td>81</td>\n",
       "      <td>SLE4HUFJ9E</td>\n",
       "      <td>Deposit of Funds at Agent Till\\n779076 - SEMIG...</td>\n",
       "      <td>600.0</td>\n",
       "      <td>NaN</td>\n",
       "      <td>700.0</td>\n",
       "      <td>2024-12-14</td>\n",
       "      <td>20:58:42</td>\n",
       "      <td>779076</td>\n",
       "      <td>SEMIGRAN COMM ENTS</td>\n",
       "    </tr>\n",
       "    <tr>\n",
       "      <th>2</th>\n",
       "      <td>87</td>\n",
       "      <td>SLE4H56ORA</td>\n",
       "      <td>Deposit of Funds at Agent Till\\n135809 - Davis...</td>\n",
       "      <td>50.0</td>\n",
       "      <td>NaN</td>\n",
       "      <td>100.0</td>\n",
       "      <td>2024-12-14</td>\n",
       "      <td>19:01:52</td>\n",
       "      <td>135809</td>\n",
       "      <td>Daviski Co Chekwa</td>\n",
       "    </tr>\n",
       "    <tr>\n",
       "      <th>3</th>\n",
       "      <td>109</td>\n",
       "      <td>SLD7C1YS2P</td>\n",
       "      <td>Deposit of Funds at Agent Till\\n135809 - Davis...</td>\n",
       "      <td>300.0</td>\n",
       "      <td>NaN</td>\n",
       "      <td>314.0</td>\n",
       "      <td>2024-12-13</td>\n",
       "      <td>16:30:05</td>\n",
       "      <td>135809</td>\n",
       "      <td>Daviski Co Chekwa</td>\n",
       "    </tr>\n",
       "    <tr>\n",
       "      <th>4</th>\n",
       "      <td>132</td>\n",
       "      <td>SLB61XYQOI</td>\n",
       "      <td>Deposit of Funds at Agent Till\\n779076 - SEMIG...</td>\n",
       "      <td>205.0</td>\n",
       "      <td>NaN</td>\n",
       "      <td>225.0</td>\n",
       "      <td>2024-12-11</td>\n",
       "      <td>10:24:36</td>\n",
       "      <td>779076</td>\n",
       "      <td>SEMIGRAN COMM ENTS</td>\n",
       "    </tr>\n",
       "  </tbody>\n",
       "</table>\n",
       "</div>"
      ],
      "text/plain": [
       "   Unnamed: 0 Receipt No.                                            Details  \\\n",
       "0          66  SLF6M02OPS  Deposit of Funds at Agent Till\\n779076 - SEMIG...   \n",
       "1          81  SLE4HUFJ9E  Deposit of Funds at Agent Till\\n779076 - SEMIG...   \n",
       "2          87  SLE4H56ORA  Deposit of Funds at Agent Till\\n135809 - Davis...   \n",
       "3         109  SLD7C1YS2P  Deposit of Funds at Agent Till\\n135809 - Davis...   \n",
       "4         132  SLB61XYQOI  Deposit of Funds at Agent Till\\n779076 - SEMIG...   \n",
       "\n",
       "   Paid In  Withdrawn  Balance        Date      Time Agent Till  \\\n",
       "0    100.0        NaN    194.0  2024-12-15  21:32:48     779076   \n",
       "1    600.0        NaN    700.0  2024-12-14  20:58:42     779076   \n",
       "2     50.0        NaN    100.0  2024-12-14  19:01:52     135809   \n",
       "3    300.0        NaN    314.0  2024-12-13  16:30:05     135809   \n",
       "4    205.0        NaN    225.0  2024-12-11  10:24:36     779076   \n",
       "\n",
       "           Agent Name  \n",
       "0  SEMIGRAN COMM ENTS  \n",
       "1  SEMIGRAN COMM ENTS  \n",
       "2   Daviski Co Chekwa  \n",
       "3   Daviski Co Chekwa  \n",
       "4  SEMIGRAN COMM ENTS  "
      ]
     },
     "execution_count": 103,
     "metadata": {},
     "output_type": "execute_result"
    }
   ],
   "source": [
    "direct_deposits = utl.extract_till_and_agent(direct_deposits, 'Details')\n",
    "direct_deposits.head()"
   ]
  },
  {
   "cell_type": "code",
   "execution_count": 104,
   "id": "10aebe3e",
   "metadata": {},
   "outputs": [],
   "source": [
    "direct_deposits = direct_deposits.drop(columns = ['Details', 'Withdrawn', 'Balance', 'Unnamed: 0'], errors = 'ignore')"
   ]
  },
  {
   "cell_type": "code",
   "execution_count": 105,
   "id": "49b21876",
   "metadata": {},
   "outputs": [
    {
     "data": {
      "text/html": [
       "<div>\n",
       "<style scoped>\n",
       "    .dataframe tbody tr th:only-of-type {\n",
       "        vertical-align: middle;\n",
       "    }\n",
       "\n",
       "    .dataframe tbody tr th {\n",
       "        vertical-align: top;\n",
       "    }\n",
       "\n",
       "    .dataframe thead th {\n",
       "        text-align: right;\n",
       "    }\n",
       "</style>\n",
       "<table border=\"1\" class=\"dataframe\">\n",
       "  <thead>\n",
       "    <tr style=\"text-align: right;\">\n",
       "      <th></th>\n",
       "      <th>Receipt No.</th>\n",
       "      <th>Date</th>\n",
       "      <th>Time</th>\n",
       "      <th>Agent Till</th>\n",
       "      <th>Agent Name</th>\n",
       "      <th>Paid In</th>\n",
       "    </tr>\n",
       "  </thead>\n",
       "  <tbody>\n",
       "    <tr>\n",
       "      <th>0</th>\n",
       "      <td>SLF6M02OPS</td>\n",
       "      <td>2024-12-15</td>\n",
       "      <td>21:32:48</td>\n",
       "      <td>779076</td>\n",
       "      <td>SEMIGRAN COMM ENTS</td>\n",
       "      <td>100.0</td>\n",
       "    </tr>\n",
       "    <tr>\n",
       "      <th>1</th>\n",
       "      <td>SLE4HUFJ9E</td>\n",
       "      <td>2024-12-14</td>\n",
       "      <td>20:58:42</td>\n",
       "      <td>779076</td>\n",
       "      <td>SEMIGRAN COMM ENTS</td>\n",
       "      <td>600.0</td>\n",
       "    </tr>\n",
       "    <tr>\n",
       "      <th>2</th>\n",
       "      <td>SLE4H56ORA</td>\n",
       "      <td>2024-12-14</td>\n",
       "      <td>19:01:52</td>\n",
       "      <td>135809</td>\n",
       "      <td>Daviski Co Chekwa</td>\n",
       "      <td>50.0</td>\n",
       "    </tr>\n",
       "    <tr>\n",
       "      <th>3</th>\n",
       "      <td>SLD7C1YS2P</td>\n",
       "      <td>2024-12-13</td>\n",
       "      <td>16:30:05</td>\n",
       "      <td>135809</td>\n",
       "      <td>Daviski Co Chekwa</td>\n",
       "      <td>300.0</td>\n",
       "    </tr>\n",
       "    <tr>\n",
       "      <th>4</th>\n",
       "      <td>SLB61XYQOI</td>\n",
       "      <td>2024-12-11</td>\n",
       "      <td>10:24:36</td>\n",
       "      <td>779076</td>\n",
       "      <td>SEMIGRAN COMM ENTS</td>\n",
       "      <td>205.0</td>\n",
       "    </tr>\n",
       "  </tbody>\n",
       "</table>\n",
       "</div>"
      ],
      "text/plain": [
       "  Receipt No.        Date      Time Agent Till          Agent Name  Paid In\n",
       "0  SLF6M02OPS  2024-12-15  21:32:48     779076  SEMIGRAN COMM ENTS    100.0\n",
       "1  SLE4HUFJ9E  2024-12-14  20:58:42     779076  SEMIGRAN COMM ENTS    600.0\n",
       "2  SLE4H56ORA  2024-12-14  19:01:52     135809   Daviski Co Chekwa     50.0\n",
       "3  SLD7C1YS2P  2024-12-13  16:30:05     135809   Daviski Co Chekwa    300.0\n",
       "4  SLB61XYQOI  2024-12-11  10:24:36     779076  SEMIGRAN COMM ENTS    205.0"
      ]
     },
     "execution_count": 105,
     "metadata": {},
     "output_type": "execute_result"
    }
   ],
   "source": [
    "column_order = ['Receipt No.', 'Date', 'Time', 'Agent Till', 'Agent Name', 'Paid In']\n",
    "direct_deposits = direct_deposits[column_order]\n",
    "direct_deposits.head()"
   ]
  },
  {
   "cell_type": "code",
   "execution_count": 106,
   "id": "d859558f",
   "metadata": {},
   "outputs": [],
   "source": [
    "direct_deposits.to_csv('clean_direct_deposits.csv')"
   ]
  },
  {
   "cell_type": "code",
   "execution_count": 107,
   "id": "b669f334",
   "metadata": {},
   "outputs": [
    {
     "name": "stdout",
     "output_type": "stream",
     "text": [
      "                                   Paid In\n",
      "Agent Name             Agent Till         \n",
      "SEMIGRAN COMM ENTS     779076       4155.0\n",
      "Daviski Co Chekwa      135809       2510.0\n",
      "Bayt construction      374133       1075.0\n",
      "PHONELAND              636258        700.0\n",
      "Semigran Comm Ents     779066        610.0\n",
      "Wapcom Limited Angie   235459        555.0\n",
      "EUNITE PRIDE K LTD     2049164       250.0\n",
      "Brigidi Holdings Ltd   495479        210.0\n",
      "Purona Services        173422        150.0\n",
      "Biston Emporium sami   061801        100.0\n",
      "Prestige Tea Buying Co 299613        100.0\n",
      "TOP GEAR COMM LTD      2164063       100.0\n"
     ]
    }
   ],
   "source": [
    "# Group by 'Details' to see total withdrawn per recipient/merchant\n",
    "deposits_grouped_by_details = direct_deposits.groupby(['Agent Name','Agent Till']).agg({'Paid In': 'sum'}).sort_values(by='Paid In', ascending=False)\n",
    "print(deposits_grouped_by_details)"
   ]
  },
  {
   "cell_type": "code",
   "execution_count": 108,
   "id": "8de002b1",
   "metadata": {},
   "outputs": [],
   "source": [
    "deposits_grouped_by_details.to_csv('direct_deposits_grouped_by_details.csv')"
   ]
  },
  {
   "cell_type": "markdown",
   "id": "7cbd6cfe",
   "metadata": {},
   "source": [
    "# M-shwari withdrawals"
   ]
  },
  {
   "cell_type": "code",
   "execution_count": 110,
   "id": "105d64da",
   "metadata": {},
   "outputs": [
    {
     "data": {
      "text/html": [
       "<div>\n",
       "<style scoped>\n",
       "    .dataframe tbody tr th:only-of-type {\n",
       "        vertical-align: middle;\n",
       "    }\n",
       "\n",
       "    .dataframe tbody tr th {\n",
       "        vertical-align: top;\n",
       "    }\n",
       "\n",
       "    .dataframe thead th {\n",
       "        text-align: right;\n",
       "    }\n",
       "</style>\n",
       "<table border=\"1\" class=\"dataframe\">\n",
       "  <thead>\n",
       "    <tr style=\"text-align: right;\">\n",
       "      <th></th>\n",
       "      <th>Receipt No.</th>\n",
       "      <th>Details</th>\n",
       "      <th>Paid In</th>\n",
       "      <th>Withdrawn</th>\n",
       "      <th>Balance</th>\n",
       "      <th>Date</th>\n",
       "      <th>Time</th>\n",
       "    </tr>\n",
       "  </thead>\n",
       "  <tbody>\n",
       "    <tr>\n",
       "      <th>1</th>\n",
       "      <td>SLN7KQ3LF7</td>\n",
       "      <td>M-Shwari Withdraw</td>\n",
       "      <td>250.0</td>\n",
       "      <td>NaN</td>\n",
       "      <td>286.0</td>\n",
       "      <td>2024-12-23</td>\n",
       "      <td>18:43:16</td>\n",
       "    </tr>\n",
       "    <tr>\n",
       "      <th>6</th>\n",
       "      <td>SLN2J0JB3A</td>\n",
       "      <td>M-Shwari Withdraw</td>\n",
       "      <td>50.0</td>\n",
       "      <td>NaN</td>\n",
       "      <td>50.0</td>\n",
       "      <td>2024-12-23</td>\n",
       "      <td>12:29:15</td>\n",
       "    </tr>\n",
       "    <tr>\n",
       "      <th>7</th>\n",
       "      <td>SLN7IUKEOV</td>\n",
       "      <td>M-Shwari Lock Withdraw to\\nSavings</td>\n",
       "      <td>0.0</td>\n",
       "      <td>NaN</td>\n",
       "      <td>0.0</td>\n",
       "      <td>2024-12-23</td>\n",
       "      <td>11:49:55</td>\n",
       "    </tr>\n",
       "    <tr>\n",
       "      <th>9</th>\n",
       "      <td>SLM1GCIMI5</td>\n",
       "      <td>M-Shwari Withdraw</td>\n",
       "      <td>200.0</td>\n",
       "      <td>NaN</td>\n",
       "      <td>200.0</td>\n",
       "      <td>2024-12-22</td>\n",
       "      <td>18:28:41</td>\n",
       "    </tr>\n",
       "    <tr>\n",
       "      <th>11</th>\n",
       "      <td>SLM4EJNNW8</td>\n",
       "      <td>M-Shwari Withdraw</td>\n",
       "      <td>20.0</td>\n",
       "      <td>NaN</td>\n",
       "      <td>420.0</td>\n",
       "      <td>2024-12-22</td>\n",
       "      <td>11:03:08</td>\n",
       "    </tr>\n",
       "    <tr>\n",
       "      <th>14</th>\n",
       "      <td>SLM0EE51ME</td>\n",
       "      <td>M-Shwari Withdraw</td>\n",
       "      <td>30.0</td>\n",
       "      <td>NaN</td>\n",
       "      <td>30.0</td>\n",
       "      <td>2024-12-22</td>\n",
       "      <td>10:18:59</td>\n",
       "    </tr>\n",
       "    <tr>\n",
       "      <th>15</th>\n",
       "      <td>SLL7D9DPFH</td>\n",
       "      <td>M-Shwari Lock Withdraw to\\nSavings</td>\n",
       "      <td>0.0</td>\n",
       "      <td>NaN</td>\n",
       "      <td>22.0</td>\n",
       "      <td>2024-12-21</td>\n",
       "      <td>21:40:28</td>\n",
       "    </tr>\n",
       "    <tr>\n",
       "      <th>16</th>\n",
       "      <td>SLL4CBVOUG</td>\n",
       "      <td>M-Shwari Lock Withdraw to\\nSavings</td>\n",
       "      <td>0.0</td>\n",
       "      <td>NaN</td>\n",
       "      <td>112.0</td>\n",
       "      <td>2024-12-21</td>\n",
       "      <td>18:48:26</td>\n",
       "    </tr>\n",
       "    <tr>\n",
       "      <th>18</th>\n",
       "      <td>SLL8BBNCME</td>\n",
       "      <td>M-Shwari Withdraw</td>\n",
       "      <td>500.0</td>\n",
       "      <td>NaN</td>\n",
       "      <td>502.0</td>\n",
       "      <td>2024-12-21</td>\n",
       "      <td>15:19:52</td>\n",
       "    </tr>\n",
       "    <tr>\n",
       "      <th>20</th>\n",
       "      <td>SLL4A2M9YM</td>\n",
       "      <td>M-Shwari Withdraw</td>\n",
       "      <td>100.0</td>\n",
       "      <td>NaN</td>\n",
       "      <td>100.0</td>\n",
       "      <td>2024-12-21</td>\n",
       "      <td>10:16:29</td>\n",
       "    </tr>\n",
       "  </tbody>\n",
       "</table>\n",
       "</div>"
      ],
      "text/plain": [
       "   Receipt No.                             Details  Paid In  Withdrawn  \\\n",
       "1   SLN7KQ3LF7                   M-Shwari Withdraw    250.0        NaN   \n",
       "6   SLN2J0JB3A                   M-Shwari Withdraw     50.0        NaN   \n",
       "7   SLN7IUKEOV  M-Shwari Lock Withdraw to\\nSavings      0.0        NaN   \n",
       "9   SLM1GCIMI5                   M-Shwari Withdraw    200.0        NaN   \n",
       "11  SLM4EJNNW8                   M-Shwari Withdraw     20.0        NaN   \n",
       "14  SLM0EE51ME                   M-Shwari Withdraw     30.0        NaN   \n",
       "15  SLL7D9DPFH  M-Shwari Lock Withdraw to\\nSavings      0.0        NaN   \n",
       "16  SLL4CBVOUG  M-Shwari Lock Withdraw to\\nSavings      0.0        NaN   \n",
       "18  SLL8BBNCME                   M-Shwari Withdraw    500.0        NaN   \n",
       "20  SLL4A2M9YM                   M-Shwari Withdraw    100.0        NaN   \n",
       "\n",
       "    Balance        Date      Time  \n",
       "1     286.0  2024-12-23  18:43:16  \n",
       "6      50.0  2024-12-23  12:29:15  \n",
       "7       0.0  2024-12-23  11:49:55  \n",
       "9     200.0  2024-12-22  18:28:41  \n",
       "11    420.0  2024-12-22  11:03:08  \n",
       "14     30.0  2024-12-22  10:18:59  \n",
       "15     22.0  2024-12-21  21:40:28  \n",
       "16    112.0  2024-12-21  18:48:26  \n",
       "18    502.0  2024-12-21  15:19:52  \n",
       "20    100.0  2024-12-21  10:16:29  "
      ]
     },
     "execution_count": 110,
     "metadata": {},
     "output_type": "execute_result"
    }
   ],
   "source": [
    "mshwari_withdrawals = utl.filter_rows_by_characters(received, 'Details', 'M-shwari')\n",
    "mshwari_withdrawals.head(10)"
   ]
  },
  {
   "cell_type": "code",
   "execution_count": 111,
   "id": "95e1df4f",
   "metadata": {},
   "outputs": [
    {
     "data": {
      "text/plain": [
       "(515, 7)"
      ]
     },
     "execution_count": 111,
     "metadata": {},
     "output_type": "execute_result"
    }
   ],
   "source": [
    "mshwari_withdrawals.shape"
   ]
  },
  {
   "cell_type": "code",
   "execution_count": 112,
   "id": "6aa53737",
   "metadata": {},
   "outputs": [
    {
     "name": "stdout",
     "output_type": "stream",
     "text": [
      "                     Paid In\n",
      "Date       Time             \n",
      "2024-04-10 19:50:27   3500.0\n",
      "2024-11-11 14:34:25   3000.0\n",
      "2024-12-14 12:05:48   2250.0\n",
      "2024-10-22 16:17:55   2150.0\n",
      "2024-12-06 13:58:08   2000.0\n",
      "2024-10-11 20:39:40   1200.0\n",
      "2024-04-19 18:28:50   1010.0\n",
      "2024-05-08 09:16:15    900.0\n",
      "2024-03-12 11:44:19    830.0\n",
      "2024-10-11 13:46:35    800.0\n",
      "2024-05-30 14:57:21    750.0\n",
      "2024-06-01 10:30:21    650.0\n",
      "2024-12-09 16:25:25    550.0\n",
      "2024-10-18 15:13:11    550.0\n",
      "2024-04-06 19:18:52    530.0\n",
      "2024-03-12 10:35:05    530.0\n",
      "2024-12-21 15:19:52    500.0\n",
      "2024-07-24 16:57:05    500.0\n",
      "2024-10-30 08:24:20    490.0\n",
      "2024-07-17 19:22:42    480.0\n"
     ]
    }
   ],
   "source": [
    "# Group by Name, phone number to see total paid in per recipient/merchant\n",
    "mshwari_withdrawals_grouped_by_details = mshwari_withdrawals.groupby(['Date', 'Time']).agg({'Paid In': 'sum'}).sort_values(by='Paid In', ascending=False)\n",
    "print(mshwari_withdrawals_grouped_by_details.head(20))"
   ]
  },
  {
   "cell_type": "code",
   "execution_count": 113,
   "id": "cc68ea7c",
   "metadata": {},
   "outputs": [
    {
     "name": "stdout",
     "output_type": "stream",
     "text": [
      "Your total M-shwari withdrawals is Ksh.59276.0\n"
     ]
    }
   ],
   "source": [
    "total_mshwari_withdrawals = mshwari_withdrawals['Paid In'].sum()\n",
    "print(f'Your total M-shwari withdrawals is Ksh.{total_mshwari_withdrawals}')"
   ]
  },
  {
   "cell_type": "code",
   "execution_count": 114,
   "id": "baaa5d7d",
   "metadata": {},
   "outputs": [],
   "source": [
    "mshwari_withdrawals.to_csv('mshwari_withdrawals.csv')"
   ]
  },
  {
   "cell_type": "markdown",
   "id": "d16d415e",
   "metadata": {},
   "source": [
    "# M-shwari deposits"
   ]
  },
  {
   "cell_type": "code",
   "execution_count": 116,
   "id": "96939af6",
   "metadata": {},
   "outputs": [
    {
     "data": {
      "text/html": [
       "<div>\n",
       "<style scoped>\n",
       "    .dataframe tbody tr th:only-of-type {\n",
       "        vertical-align: middle;\n",
       "    }\n",
       "\n",
       "    .dataframe tbody tr th {\n",
       "        vertical-align: top;\n",
       "    }\n",
       "\n",
       "    .dataframe thead th {\n",
       "        text-align: right;\n",
       "    }\n",
       "</style>\n",
       "<table border=\"1\" class=\"dataframe\">\n",
       "  <thead>\n",
       "    <tr style=\"text-align: right;\">\n",
       "      <th></th>\n",
       "      <th>Receipt No.</th>\n",
       "      <th>Details</th>\n",
       "      <th>Paid In</th>\n",
       "      <th>Withdrawn</th>\n",
       "      <th>Balance</th>\n",
       "      <th>Date</th>\n",
       "      <th>Time</th>\n",
       "    </tr>\n",
       "  </thead>\n",
       "  <tbody>\n",
       "    <tr>\n",
       "      <th>5</th>\n",
       "      <td>SLN9KM0NHR</td>\n",
       "      <td>M-Shwari Deposit</td>\n",
       "      <td>NaN</td>\n",
       "      <td>50.0</td>\n",
       "      <td>36.0</td>\n",
       "      <td>2024-12-23</td>\n",
       "      <td>18:23:37</td>\n",
       "    </tr>\n",
       "    <tr>\n",
       "      <th>8</th>\n",
       "      <td>SLN0KD2XJS</td>\n",
       "      <td>M-Shwari Deposit</td>\n",
       "      <td>NaN</td>\n",
       "      <td>550.0</td>\n",
       "      <td>50.0</td>\n",
       "      <td>2024-12-23</td>\n",
       "      <td>17:36:37</td>\n",
       "    </tr>\n",
       "    <tr>\n",
       "      <th>55</th>\n",
       "      <td>SLL9A4W5MB</td>\n",
       "      <td>M-Shwari Deposit</td>\n",
       "      <td>NaN</td>\n",
       "      <td>500.0</td>\n",
       "      <td>70.0</td>\n",
       "      <td>2024-12-21</td>\n",
       "      <td>10:32:30</td>\n",
       "    </tr>\n",
       "    <tr>\n",
       "      <th>111</th>\n",
       "      <td>SLH6U8UN0A</td>\n",
       "      <td>M-Shwari Deposit</td>\n",
       "      <td>NaN</td>\n",
       "      <td>100.0</td>\n",
       "      <td>116.0</td>\n",
       "      <td>2024-12-17</td>\n",
       "      <td>20:06:27</td>\n",
       "    </tr>\n",
       "    <tr>\n",
       "      <th>179</th>\n",
       "      <td>SLE3HUX9B3</td>\n",
       "      <td>M-Shwari Deposit</td>\n",
       "      <td>NaN</td>\n",
       "      <td>600.0</td>\n",
       "      <td>90.0</td>\n",
       "      <td>2024-12-14</td>\n",
       "      <td>21:01:31</td>\n",
       "    </tr>\n",
       "    <tr>\n",
       "      <th>188</th>\n",
       "      <td>SLE2GYT5LC</td>\n",
       "      <td>M-Shwari Deposit</td>\n",
       "      <td>NaN</td>\n",
       "      <td>150.0</td>\n",
       "      <td>50.0</td>\n",
       "      <td>2024-12-14</td>\n",
       "      <td>18:32:29</td>\n",
       "    </tr>\n",
       "    <tr>\n",
       "      <th>202</th>\n",
       "      <td>SLE4G1ME4W</td>\n",
       "      <td>M-Shwari Deposit</td>\n",
       "      <td>NaN</td>\n",
       "      <td>450.0</td>\n",
       "      <td>94.0</td>\n",
       "      <td>2024-12-14</td>\n",
       "      <td>15:06:15</td>\n",
       "    </tr>\n",
       "    <tr>\n",
       "      <th>207</th>\n",
       "      <td>SLE6FHT2JE</td>\n",
       "      <td>M-Shwari Deposit</td>\n",
       "      <td>NaN</td>\n",
       "      <td>70.0</td>\n",
       "      <td>1.0</td>\n",
       "      <td>2024-12-14</td>\n",
       "      <td>12:52:37</td>\n",
       "    </tr>\n",
       "    <tr>\n",
       "      <th>208</th>\n",
       "      <td>SLE7FE70N3</td>\n",
       "      <td>M-Shwari Deposit</td>\n",
       "      <td>NaN</td>\n",
       "      <td>2150.0</td>\n",
       "      <td>71.0</td>\n",
       "      <td>2024-12-14</td>\n",
       "      <td>12:28:02</td>\n",
       "    </tr>\n",
       "    <tr>\n",
       "      <th>219</th>\n",
       "      <td>SLD4D18GWO</td>\n",
       "      <td>M-Shwari Deposit</td>\n",
       "      <td>NaN</td>\n",
       "      <td>150.0</td>\n",
       "      <td>70.0</td>\n",
       "      <td>2024-12-13</td>\n",
       "      <td>19:33:16</td>\n",
       "    </tr>\n",
       "  </tbody>\n",
       "</table>\n",
       "</div>"
      ],
      "text/plain": [
       "    Receipt No.           Details  Paid In  Withdrawn  Balance        Date  \\\n",
       "5    SLN9KM0NHR  M-Shwari Deposit      NaN       50.0     36.0  2024-12-23   \n",
       "8    SLN0KD2XJS  M-Shwari Deposit      NaN      550.0     50.0  2024-12-23   \n",
       "55   SLL9A4W5MB  M-Shwari Deposit      NaN      500.0     70.0  2024-12-21   \n",
       "111  SLH6U8UN0A  M-Shwari Deposit      NaN      100.0    116.0  2024-12-17   \n",
       "179  SLE3HUX9B3  M-Shwari Deposit      NaN      600.0     90.0  2024-12-14   \n",
       "188  SLE2GYT5LC  M-Shwari Deposit      NaN      150.0     50.0  2024-12-14   \n",
       "202  SLE4G1ME4W  M-Shwari Deposit      NaN      450.0     94.0  2024-12-14   \n",
       "207  SLE6FHT2JE  M-Shwari Deposit      NaN       70.0      1.0  2024-12-14   \n",
       "208  SLE7FE70N3  M-Shwari Deposit      NaN     2150.0     71.0  2024-12-14   \n",
       "219  SLD4D18GWO  M-Shwari Deposit      NaN      150.0     70.0  2024-12-13   \n",
       "\n",
       "         Time  \n",
       "5    18:23:37  \n",
       "8    17:36:37  \n",
       "55   10:32:30  \n",
       "111  20:06:27  \n",
       "179  21:01:31  \n",
       "188  18:32:29  \n",
       "202  15:06:15  \n",
       "207  12:52:37  \n",
       "208  12:28:02  \n",
       "219  19:33:16  "
      ]
     },
     "execution_count": 116,
     "metadata": {},
     "output_type": "execute_result"
    }
   ],
   "source": [
    "mshwari_deposits = utl.filter_rows_by_characters(transfered, 'Details', 'M-shwari')\n",
    "mshwari_deposits.head(10)"
   ]
  },
  {
   "cell_type": "code",
   "execution_count": 117,
   "id": "88098bc6",
   "metadata": {},
   "outputs": [
    {
     "data": {
      "text/plain": [
       "(172, 7)"
      ]
     },
     "execution_count": 117,
     "metadata": {},
     "output_type": "execute_result"
    }
   ],
   "source": [
    "mshwari_deposits.shape"
   ]
  },
  {
   "cell_type": "code",
   "execution_count": 118,
   "id": "ac23b928",
   "metadata": {},
   "outputs": [
    {
     "name": "stdout",
     "output_type": "stream",
     "text": [
      "                     Withdrawn\n",
      "Date       Time               \n",
      "2024-04-10 08:35:49     6000.0\n",
      "2024-11-11 14:26:44     3000.0\n",
      "2024-12-04 19:51:25     3000.0\n",
      "2024-09-04 19:26:45     2900.0\n",
      "2024-10-18 17:18:22     2250.0\n",
      "2024-12-14 12:28:02     2150.0\n",
      "2024-10-10 22:53:52     1450.0\n",
      "2024-01-10 17:46:15     1000.0\n",
      "2024-09-28 00:59:53     1000.0\n",
      "2024-11-23 19:46:08     1000.0\n",
      "2024-03-05 22:21:39     1000.0\n",
      "2024-07-12 18:01:14      800.0\n",
      "2024-06-26 19:06:52      800.0\n",
      "2024-05-30 15:00:18      750.0\n",
      "2024-03-06 13:12:58      700.0\n",
      "2024-05-19 11:27:48      700.0\n",
      "2024-12-04 17:34:30      670.0\n",
      "2024-06-07 01:26:17      600.0\n",
      "2024-06-01 12:46:53      600.0\n",
      "2024-12-14 21:01:31      600.0\n"
     ]
    }
   ],
   "source": [
    "# Group by Name, phone number to see total paid in per recipient/merchant\n",
    "mshwari_deposits_grouped_by_details = mshwari_deposits.groupby(['Date', 'Time']).agg({'Withdrawn': 'sum'}).sort_values(by='Withdrawn', ascending=False)\n",
    "print(mshwari_deposits_grouped_by_details.head(20))"
   ]
  },
  {
   "cell_type": "code",
   "execution_count": 119,
   "id": "d381a69d",
   "metadata": {},
   "outputs": [
    {
     "name": "stdout",
     "output_type": "stream",
     "text": [
      "Your total M-shwari deposits is Ksh.60369.0\n"
     ]
    }
   ],
   "source": [
    "total_mshwari_deposits = mshwari_deposits['Withdrawn'].sum()\n",
    "print(f'Your total M-shwari deposits is Ksh.{total_mshwari_deposits}')"
   ]
  },
  {
   "cell_type": "code",
   "execution_count": 120,
   "id": "d4b423ba",
   "metadata": {},
   "outputs": [],
   "source": [
    "mshwari_deposits.to_csv('mshwari_deposits.csv')"
   ]
  },
  {
   "cell_type": "markdown",
   "id": "1b2e3ceb",
   "metadata": {},
   "source": [
    "# Business Payment"
   ]
  },
  {
   "cell_type": "code",
   "execution_count": 122,
   "id": "dfb9ffa5",
   "metadata": {},
   "outputs": [
    {
     "data": {
      "text/html": [
       "<div>\n",
       "<style scoped>\n",
       "    .dataframe tbody tr th:only-of-type {\n",
       "        vertical-align: middle;\n",
       "    }\n",
       "\n",
       "    .dataframe tbody tr th {\n",
       "        vertical-align: top;\n",
       "    }\n",
       "\n",
       "    .dataframe thead th {\n",
       "        text-align: right;\n",
       "    }\n",
       "</style>\n",
       "<table border=\"1\" class=\"dataframe\">\n",
       "  <thead>\n",
       "    <tr style=\"text-align: right;\">\n",
       "      <th></th>\n",
       "      <th>Receipt No.</th>\n",
       "      <th>Details</th>\n",
       "      <th>Paid In</th>\n",
       "      <th>Withdrawn</th>\n",
       "      <th>Balance</th>\n",
       "      <th>Date</th>\n",
       "      <th>Time</th>\n",
       "    </tr>\n",
       "  </thead>\n",
       "  <tbody>\n",
       "    <tr>\n",
       "      <th>219</th>\n",
       "      <td>SL34185PB4</td>\n",
       "      <td>Business Payment from 300600 -\\nEquity Bulk Ac...</td>\n",
       "      <td>100.0</td>\n",
       "      <td>NaN</td>\n",
       "      <td>100.0</td>\n",
       "      <td>2024-12-03</td>\n",
       "      <td>09:18:40</td>\n",
       "    </tr>\n",
       "    <tr>\n",
       "      <th>478</th>\n",
       "      <td>SKE4RRZ92Y</td>\n",
       "      <td>Business Payment from 300600 -\\nEquity Bulk Ac...</td>\n",
       "      <td>80.0</td>\n",
       "      <td>NaN</td>\n",
       "      <td>82.0</td>\n",
       "      <td>2024-11-14</td>\n",
       "      <td>15:58:07</td>\n",
       "    </tr>\n",
       "    <tr>\n",
       "      <th>495</th>\n",
       "      <td>SKD5NN6Q7P</td>\n",
       "      <td>Business Payment from 300600 -\\nEquity Bulk Ac...</td>\n",
       "      <td>60.0</td>\n",
       "      <td>NaN</td>\n",
       "      <td>87.0</td>\n",
       "      <td>2024-11-13</td>\n",
       "      <td>16:03:05</td>\n",
       "    </tr>\n",
       "    <tr>\n",
       "      <th>525</th>\n",
       "      <td>SKB6DESMHM</td>\n",
       "      <td>Business Payment from 300600 -\\nEquity Bulk Ac...</td>\n",
       "      <td>200.0</td>\n",
       "      <td>NaN</td>\n",
       "      <td>365.0</td>\n",
       "      <td>2024-11-11</td>\n",
       "      <td>07:12:21</td>\n",
       "    </tr>\n",
       "    <tr>\n",
       "      <th>560</th>\n",
       "      <td>SK69S6UIYX</td>\n",
       "      <td>Business Payment from 300600 -\\nEquity Bulk Ac...</td>\n",
       "      <td>150.0</td>\n",
       "      <td>NaN</td>\n",
       "      <td>186.0</td>\n",
       "      <td>2024-11-06</td>\n",
       "      <td>13:23:28</td>\n",
       "    </tr>\n",
       "    <tr>\n",
       "      <th>574</th>\n",
       "      <td>SK59OH1SGX</td>\n",
       "      <td>Business Payment from 300600 -\\nEquity Bulk Ac...</td>\n",
       "      <td>1030.0</td>\n",
       "      <td>NaN</td>\n",
       "      <td>1040.0</td>\n",
       "      <td>2024-11-05</td>\n",
       "      <td>15:57:09</td>\n",
       "    </tr>\n",
       "    <tr>\n",
       "      <th>853</th>\n",
       "      <td>SJA0NJ1KNO</td>\n",
       "      <td>Business Payment from 300600 -\\nEquity Bulk Ac...</td>\n",
       "      <td>1500.0</td>\n",
       "      <td>NaN</td>\n",
       "      <td>1500.0</td>\n",
       "      <td>2024-10-10</td>\n",
       "      <td>22:49:44</td>\n",
       "    </tr>\n",
       "    <tr>\n",
       "      <th>1861</th>\n",
       "      <td>SAA6MM4WCO</td>\n",
       "      <td>Business Payment from 300600 -\\nEquity Bulk Ac...</td>\n",
       "      <td>500.0</td>\n",
       "      <td>NaN</td>\n",
       "      <td>502.0</td>\n",
       "      <td>2024-01-10</td>\n",
       "      <td>15:51:50</td>\n",
       "    </tr>\n",
       "  </tbody>\n",
       "</table>\n",
       "</div>"
      ],
      "text/plain": [
       "     Receipt No.                                            Details  Paid In  \\\n",
       "219   SL34185PB4  Business Payment from 300600 -\\nEquity Bulk Ac...    100.0   \n",
       "478   SKE4RRZ92Y  Business Payment from 300600 -\\nEquity Bulk Ac...     80.0   \n",
       "495   SKD5NN6Q7P  Business Payment from 300600 -\\nEquity Bulk Ac...     60.0   \n",
       "525   SKB6DESMHM  Business Payment from 300600 -\\nEquity Bulk Ac...    200.0   \n",
       "560   SK69S6UIYX  Business Payment from 300600 -\\nEquity Bulk Ac...    150.0   \n",
       "574   SK59OH1SGX  Business Payment from 300600 -\\nEquity Bulk Ac...   1030.0   \n",
       "853   SJA0NJ1KNO  Business Payment from 300600 -\\nEquity Bulk Ac...   1500.0   \n",
       "1861  SAA6MM4WCO  Business Payment from 300600 -\\nEquity Bulk Ac...    500.0   \n",
       "\n",
       "      Withdrawn  Balance        Date      Time  \n",
       "219         NaN    100.0  2024-12-03  09:18:40  \n",
       "478         NaN     82.0  2024-11-14  15:58:07  \n",
       "495         NaN     87.0  2024-11-13  16:03:05  \n",
       "525         NaN    365.0  2024-11-11  07:12:21  \n",
       "560         NaN    186.0  2024-11-06  13:23:28  \n",
       "574         NaN   1040.0  2024-11-05  15:57:09  \n",
       "853         NaN   1500.0  2024-10-10  22:49:44  \n",
       "1861        NaN    502.0  2024-01-10  15:51:50  "
      ]
     },
     "execution_count": 122,
     "metadata": {},
     "output_type": "execute_result"
    }
   ],
   "source": [
    "business_payment = utl.filter_rows_by_characters(received, 'Details', 'Acc')\n",
    "business_payment.head(10)"
   ]
  },
  {
   "cell_type": "code",
   "execution_count": 123,
   "id": "b15ca530",
   "metadata": {},
   "outputs": [
    {
     "data": {
      "text/plain": [
       "(8, 7)"
      ]
     },
     "execution_count": 123,
     "metadata": {},
     "output_type": "execute_result"
    }
   ],
   "source": [
    "business_payment.shape"
   ]
  },
  {
   "cell_type": "code",
   "execution_count": 124,
   "id": "288eee55",
   "metadata": {},
   "outputs": [
    {
     "name": "stdout",
     "output_type": "stream",
     "text": [
      "                                                                        Paid In\n",
      "Details                                            Date       Time             \n",
      "Business Payment from 300600 -\\nEquity Bulk Acc... 2024-10-10 22:49:44   1500.0\n",
      "Business Payment from 300600 -\\nEquity Bulk Acc... 2024-11-05 15:57:09   1030.0\n",
      "Business Payment from 300600 -\\nEquity Bulk Acc... 2024-01-10 15:51:50    500.0\n",
      "Business Payment from 300600 -\\nEquity Bulk Acc... 2024-11-11 07:12:21    200.0\n",
      "Business Payment from 300600 -\\nEquity Bulk Acc... 2024-11-06 13:23:28    150.0\n",
      "Business Payment from 300600 -\\nEquity Bulk Acc... 2024-12-03 09:18:40    100.0\n",
      "Business Payment from 300600 -\\nEquity Bulk Acc... 2024-11-14 15:58:07     80.0\n",
      "Business Payment from 300600 -\\nEquity Bulk Acc... 2024-11-13 16:03:05     60.0\n"
     ]
    }
   ],
   "source": [
    "# Group by Name, phone number to see total paid in per recipient/merchant\n",
    "business_payment_grouped_by_details = business_payment.groupby(['Details','Date', 'Time']).agg({'Paid In': 'sum'}).sort_values(by='Paid In', ascending=False)\n",
    "print(business_payment_grouped_by_details.head(20))"
   ]
  },
  {
   "cell_type": "code",
   "execution_count": 125,
   "id": "f891c51b",
   "metadata": {},
   "outputs": [],
   "source": [
    "business_payment_grouped_by_details.to_csv('business_payments.csv')"
   ]
  },
  {
   "cell_type": "markdown",
   "id": "e3694f34",
   "metadata": {},
   "source": [
    "# Promotion payments"
   ]
  },
  {
   "cell_type": "code",
   "execution_count": 126,
   "id": "8ce4c858",
   "metadata": {},
   "outputs": [
    {
     "data": {
      "text/html": [
       "<div>\n",
       "<style scoped>\n",
       "    .dataframe tbody tr th:only-of-type {\n",
       "        vertical-align: middle;\n",
       "    }\n",
       "\n",
       "    .dataframe tbody tr th {\n",
       "        vertical-align: top;\n",
       "    }\n",
       "\n",
       "    .dataframe thead th {\n",
       "        text-align: right;\n",
       "    }\n",
       "</style>\n",
       "<table border=\"1\" class=\"dataframe\">\n",
       "  <thead>\n",
       "    <tr style=\"text-align: right;\">\n",
       "      <th></th>\n",
       "      <th>Receipt No.</th>\n",
       "      <th>Details</th>\n",
       "      <th>Paid In</th>\n",
       "      <th>Withdrawn</th>\n",
       "      <th>Balance</th>\n",
       "      <th>Date</th>\n",
       "      <th>Time</th>\n",
       "    </tr>\n",
       "  </thead>\n",
       "  <tbody>\n",
       "    <tr>\n",
       "      <th>2</th>\n",
       "      <td>SLN7KH7QC5</td>\n",
       "      <td>Promotion Payment from 763552\\n- BETIKA B2C vi...</td>\n",
       "      <td>70.0</td>\n",
       "      <td>NaN</td>\n",
       "      <td>86.0</td>\n",
       "      <td>2024-12-23</td>\n",
       "      <td>17:58:54</td>\n",
       "    </tr>\n",
       "    <tr>\n",
       "      <th>3</th>\n",
       "      <td>SLN9KAY4QF</td>\n",
       "      <td>Promotion Payment from 763552\\n- BETIKA B2C vi...</td>\n",
       "      <td>100.0</td>\n",
       "      <td>NaN</td>\n",
       "      <td>600.0</td>\n",
       "      <td>2024-12-23</td>\n",
       "      <td>17:24:43</td>\n",
       "    </tr>\n",
       "    <tr>\n",
       "      <th>12</th>\n",
       "      <td>SLM4EIIFA4</td>\n",
       "      <td>Promotion Payment from 763552\\n- BETIKA B2C vi...</td>\n",
       "      <td>200.0</td>\n",
       "      <td>NaN</td>\n",
       "      <td>400.0</td>\n",
       "      <td>2024-12-22</td>\n",
       "      <td>10:53:53</td>\n",
       "    </tr>\n",
       "    <tr>\n",
       "      <th>13</th>\n",
       "      <td>SLM3EHBIQR</td>\n",
       "      <td>Promotion Payment from 763552\\n- BETIKA B2C vi...</td>\n",
       "      <td>200.0</td>\n",
       "      <td>NaN</td>\n",
       "      <td>200.0</td>\n",
       "      <td>2024-12-22</td>\n",
       "      <td>10:44:23</td>\n",
       "    </tr>\n",
       "    <tr>\n",
       "      <th>22</th>\n",
       "      <td>SLK08NEXP2</td>\n",
       "      <td>Promotion Payment from 763552\\n- BETIKA B2C vi...</td>\n",
       "      <td>100.0</td>\n",
       "      <td>NaN</td>\n",
       "      <td>105.0</td>\n",
       "      <td>2024-12-20</td>\n",
       "      <td>20:56:29</td>\n",
       "    </tr>\n",
       "    <tr>\n",
       "      <th>42</th>\n",
       "      <td>SLH2UJH812</td>\n",
       "      <td>Promotion Payment from 763552\\n- BETIKA B2C vi...</td>\n",
       "      <td>100.0</td>\n",
       "      <td>NaN</td>\n",
       "      <td>100.0</td>\n",
       "      <td>2024-12-17</td>\n",
       "      <td>21:00:21</td>\n",
       "    </tr>\n",
       "    <tr>\n",
       "      <th>59</th>\n",
       "      <td>SLG6O3KVTE</td>\n",
       "      <td>Promotion Payment from 763552\\n- BETIKA B2C vi...</td>\n",
       "      <td>100.0</td>\n",
       "      <td>NaN</td>\n",
       "      <td>190.0</td>\n",
       "      <td>2024-12-16</td>\n",
       "      <td>13:59:46</td>\n",
       "    </tr>\n",
       "    <tr>\n",
       "      <th>89</th>\n",
       "      <td>SLE8GTYPFO</td>\n",
       "      <td>Promotion Payment from 763552\\n- BETIKA B2C vi...</td>\n",
       "      <td>200.0</td>\n",
       "      <td>NaN</td>\n",
       "      <td>200.0</td>\n",
       "      <td>2024-12-14</td>\n",
       "      <td>18:07:08</td>\n",
       "    </tr>\n",
       "    <tr>\n",
       "      <th>152</th>\n",
       "      <td>SL84R7T0YW</td>\n",
       "      <td>Promotion Payment from 763552\\n- BETIKA B2C vi...</td>\n",
       "      <td>380.0</td>\n",
       "      <td>NaN</td>\n",
       "      <td>390.0</td>\n",
       "      <td>2024-12-08</td>\n",
       "      <td>23:08:44</td>\n",
       "    </tr>\n",
       "    <tr>\n",
       "      <th>155</th>\n",
       "      <td>SL84Q9UF6S</td>\n",
       "      <td>Promotion Payment from 763552\\n- BETIKA B2C vi...</td>\n",
       "      <td>100.0</td>\n",
       "      <td>NaN</td>\n",
       "      <td>100.0</td>\n",
       "      <td>2024-12-08</td>\n",
       "      <td>19:17:28</td>\n",
       "    </tr>\n",
       "  </tbody>\n",
       "</table>\n",
       "</div>"
      ],
      "text/plain": [
       "    Receipt No.                                            Details  Paid In  \\\n",
       "2    SLN7KH7QC5  Promotion Payment from 763552\\n- BETIKA B2C vi...     70.0   \n",
       "3    SLN9KAY4QF  Promotion Payment from 763552\\n- BETIKA B2C vi...    100.0   \n",
       "12   SLM4EIIFA4  Promotion Payment from 763552\\n- BETIKA B2C vi...    200.0   \n",
       "13   SLM3EHBIQR  Promotion Payment from 763552\\n- BETIKA B2C vi...    200.0   \n",
       "22   SLK08NEXP2  Promotion Payment from 763552\\n- BETIKA B2C vi...    100.0   \n",
       "42   SLH2UJH812  Promotion Payment from 763552\\n- BETIKA B2C vi...    100.0   \n",
       "59   SLG6O3KVTE  Promotion Payment from 763552\\n- BETIKA B2C vi...    100.0   \n",
       "89   SLE8GTYPFO  Promotion Payment from 763552\\n- BETIKA B2C vi...    200.0   \n",
       "152  SL84R7T0YW  Promotion Payment from 763552\\n- BETIKA B2C vi...    380.0   \n",
       "155  SL84Q9UF6S  Promotion Payment from 763552\\n- BETIKA B2C vi...    100.0   \n",
       "\n",
       "     Withdrawn  Balance        Date      Time  \n",
       "2          NaN     86.0  2024-12-23  17:58:54  \n",
       "3          NaN    600.0  2024-12-23  17:24:43  \n",
       "12         NaN    400.0  2024-12-22  10:53:53  \n",
       "13         NaN    200.0  2024-12-22  10:44:23  \n",
       "22         NaN    105.0  2024-12-20  20:56:29  \n",
       "42         NaN    100.0  2024-12-17  21:00:21  \n",
       "59         NaN    190.0  2024-12-16  13:59:46  \n",
       "89         NaN    200.0  2024-12-14  18:07:08  \n",
       "152        NaN    390.0  2024-12-08  23:08:44  \n",
       "155        NaN    100.0  2024-12-08  19:17:28  "
      ]
     },
     "execution_count": 126,
     "metadata": {},
     "output_type": "execute_result"
    }
   ],
   "source": [
    "promotion_payments = utl.filter_rows_by_characters(received, 'Details', 'promotion')\n",
    "promotion_payments.head(10)"
   ]
  },
  {
   "cell_type": "code",
   "execution_count": 127,
   "id": "78d23fb7",
   "metadata": {},
   "outputs": [
    {
     "data": {
      "text/plain": [
       "(39, 7)"
      ]
     },
     "execution_count": 127,
     "metadata": {},
     "output_type": "execute_result"
    }
   ],
   "source": [
    "promotion_payments.shape"
   ]
  },
  {
   "cell_type": "code",
   "execution_count": 128,
   "id": "21fe8121",
   "metadata": {},
   "outputs": [
    {
     "name": "stdout",
     "output_type": "stream",
     "text": [
      "                                                                        Paid In\n",
      "Details                                            Date       Time             \n",
      "Promotion Payment from 763552\\n- BETIKA B2C via... 2024-11-29 14:59:20    620.0\n",
      "Promotion Payment from 763552\\n- BETIKA B2C via... 2024-11-16 01:36:58    600.0\n",
      "Promotion Payment from 763552\\n- BETIKA B2C via... 2024-12-08 23:08:44    380.0\n",
      "Promotion Payment from 763552\\n- BETIKA B2C via... 2024-08-25 10:47:24    288.0\n",
      "Promotion Payment from 763552\\n- BETIKA B2C via... 2024-10-13 05:42:09    240.0\n",
      "Promotion Payment from 763552\\n- BETIKA B2C via... 2024-12-22 10:53:53    200.0\n",
      "Promotion Payment from 763552\\n- BETIKA B2C via... 2024-12-22 10:44:23    200.0\n",
      "Promotion Payment from 763552\\n- BETIKA B2C via... 2024-12-14 18:07:08    200.0\n",
      "Promotion Payment from 763552\\n- BETIKA B2C via... 2024-12-03 16:06:42    200.0\n",
      "Promotion Payment from 763552\\n- BETIKA B2C via... 2024-11-28 11:17:57    150.0\n"
     ]
    }
   ],
   "source": [
    "# Group by Name, phone number to see total paid in per recipient/merchant\n",
    "promotion_payments_grouped_by_details = promotion_payments.groupby(['Details','Date', 'Time']).agg({'Paid In': 'sum'}).sort_values(by='Paid In', ascending=False)\n",
    "print(promotion_payments_grouped_by_details.head(10))"
   ]
  },
  {
   "cell_type": "code",
   "execution_count": 129,
   "id": "5b0fbd4c",
   "metadata": {},
   "outputs": [
    {
     "name": "stdout",
     "output_type": "stream",
     "text": [
      "You have received a total of ksh.5568.0 from promotion payments \n"
     ]
    }
   ],
   "source": [
    "total_promotion = promotion_payments['Paid In'].sum()\n",
    "print(f'You have received a total of ksh.{total_promotion} from promotion payments ')"
   ]
  },
  {
   "cell_type": "markdown",
   "id": "6a9322b1",
   "metadata": {},
   "source": [
    "# Bill and Utilities"
   ]
  },
  {
   "cell_type": "markdown",
   "id": "5b60fea3",
   "metadata": {},
   "source": [
    "## Kenya Power KPLC"
   ]
  },
  {
   "cell_type": "code",
   "execution_count": 130,
   "id": "7865d20b",
   "metadata": {},
   "outputs": [
    {
     "data": {
      "text/html": [
       "<div>\n",
       "<style scoped>\n",
       "    .dataframe tbody tr th:only-of-type {\n",
       "        vertical-align: middle;\n",
       "    }\n",
       "\n",
       "    .dataframe tbody tr th {\n",
       "        vertical-align: top;\n",
       "    }\n",
       "\n",
       "    .dataframe thead th {\n",
       "        text-align: right;\n",
       "    }\n",
       "</style>\n",
       "<table border=\"1\" class=\"dataframe\">\n",
       "  <thead>\n",
       "    <tr style=\"text-align: right;\">\n",
       "      <th></th>\n",
       "      <th>Receipt No.</th>\n",
       "      <th>Details</th>\n",
       "      <th>Paid In</th>\n",
       "      <th>Withdrawn</th>\n",
       "      <th>Balance</th>\n",
       "      <th>Date</th>\n",
       "      <th>Time</th>\n",
       "    </tr>\n",
       "  </thead>\n",
       "  <tbody>\n",
       "    <tr>\n",
       "      <th>11</th>\n",
       "      <td>SLN8JNBC26</td>\n",
       "      <td>Pay Bill to 888880 - KPLC\\nPREPAID Acc. 371745...</td>\n",
       "      <td>NaN</td>\n",
       "      <td>80.0</td>\n",
       "      <td>526.0</td>\n",
       "      <td>2024-12-23</td>\n",
       "      <td>14:55:51</td>\n",
       "    </tr>\n",
       "    <tr>\n",
       "      <th>72</th>\n",
       "      <td>SLK066PFEE</td>\n",
       "      <td>Pay Bill to 888880 - KPLC\\nPREPAID Acc. 371745...</td>\n",
       "      <td>NaN</td>\n",
       "      <td>100.0</td>\n",
       "      <td>46.0</td>\n",
       "      <td>2024-12-20</td>\n",
       "      <td>12:34:45</td>\n",
       "    </tr>\n",
       "    <tr>\n",
       "      <th>161</th>\n",
       "      <td>SLF6M0P1HQ</td>\n",
       "      <td>Pay Bill to 888880 - KPLC\\nPREPAID Acc. 371745...</td>\n",
       "      <td>NaN</td>\n",
       "      <td>100.0</td>\n",
       "      <td>94.0</td>\n",
       "      <td>2024-12-15</td>\n",
       "      <td>21:37:20</td>\n",
       "    </tr>\n",
       "    <tr>\n",
       "      <th>266</th>\n",
       "      <td>SLA9YPL6MB</td>\n",
       "      <td>Pay Bill to 888880 - KPLC\\nPREPAID Acc. 142426...</td>\n",
       "      <td>NaN</td>\n",
       "      <td>30.0</td>\n",
       "      <td>31.0</td>\n",
       "      <td>2024-12-10</td>\n",
       "      <td>18:47:58</td>\n",
       "    </tr>\n",
       "    <tr>\n",
       "      <th>291</th>\n",
       "      <td>SL90RW7IFQ</td>\n",
       "      <td>Pay Bill to 888880 - KPLC\\nPREPAID Acc. 371745...</td>\n",
       "      <td>NaN</td>\n",
       "      <td>80.0</td>\n",
       "      <td>26.0</td>\n",
       "      <td>2024-12-09</td>\n",
       "      <td>09:05:28</td>\n",
       "    </tr>\n",
       "    <tr>\n",
       "      <th>368</th>\n",
       "      <td>SL48871LMO</td>\n",
       "      <td>Pay Bill to 888880 - KPLC\\nPREPAID Acc. 371745...</td>\n",
       "      <td>NaN</td>\n",
       "      <td>70.0</td>\n",
       "      <td>134.0</td>\n",
       "      <td>2024-12-04</td>\n",
       "      <td>18:53:03</td>\n",
       "    </tr>\n",
       "    <tr>\n",
       "      <th>526</th>\n",
       "      <td>SKS7HUP50Z</td>\n",
       "      <td>Pay Bill to 888880 - KPLC\\nPREPAID Acc. 371745...</td>\n",
       "      <td>NaN</td>\n",
       "      <td>100.0</td>\n",
       "      <td>1.0</td>\n",
       "      <td>2024-11-28</td>\n",
       "      <td>21:36:08</td>\n",
       "    </tr>\n",
       "    <tr>\n",
       "      <th>564</th>\n",
       "      <td>SKR8CD3HI0</td>\n",
       "      <td>Pay Bill to 888880 - KPLC\\nPREPAID Acc. 142426...</td>\n",
       "      <td>NaN</td>\n",
       "      <td>30.0</td>\n",
       "      <td>114.0</td>\n",
       "      <td>2024-11-27</td>\n",
       "      <td>18:21:28</td>\n",
       "    </tr>\n",
       "    <tr>\n",
       "      <th>577</th>\n",
       "      <td>SKQ28DQJKQ</td>\n",
       "      <td>Pay Bill to 888880 - KPLC\\nPREPAID Acc. 371745...</td>\n",
       "      <td>NaN</td>\n",
       "      <td>50.0</td>\n",
       "      <td>63.0</td>\n",
       "      <td>2024-11-26</td>\n",
       "      <td>19:10:44</td>\n",
       "    </tr>\n",
       "    <tr>\n",
       "      <th>628</th>\n",
       "      <td>SKM5QXWMZH</td>\n",
       "      <td>Pay Bill to 888880 - KPLC\\nPREPAID Acc. 371745...</td>\n",
       "      <td>NaN</td>\n",
       "      <td>100.0</td>\n",
       "      <td>110.0</td>\n",
       "      <td>2024-11-22</td>\n",
       "      <td>19:22:36</td>\n",
       "    </tr>\n",
       "  </tbody>\n",
       "</table>\n",
       "</div>"
      ],
      "text/plain": [
       "    Receipt No.                                            Details  Paid In  \\\n",
       "11   SLN8JNBC26  Pay Bill to 888880 - KPLC\\nPREPAID Acc. 371745...      NaN   \n",
       "72   SLK066PFEE  Pay Bill to 888880 - KPLC\\nPREPAID Acc. 371745...      NaN   \n",
       "161  SLF6M0P1HQ  Pay Bill to 888880 - KPLC\\nPREPAID Acc. 371745...      NaN   \n",
       "266  SLA9YPL6MB  Pay Bill to 888880 - KPLC\\nPREPAID Acc. 142426...      NaN   \n",
       "291  SL90RW7IFQ  Pay Bill to 888880 - KPLC\\nPREPAID Acc. 371745...      NaN   \n",
       "368  SL48871LMO  Pay Bill to 888880 - KPLC\\nPREPAID Acc. 371745...      NaN   \n",
       "526  SKS7HUP50Z  Pay Bill to 888880 - KPLC\\nPREPAID Acc. 371745...      NaN   \n",
       "564  SKR8CD3HI0  Pay Bill to 888880 - KPLC\\nPREPAID Acc. 142426...      NaN   \n",
       "577  SKQ28DQJKQ  Pay Bill to 888880 - KPLC\\nPREPAID Acc. 371745...      NaN   \n",
       "628  SKM5QXWMZH  Pay Bill to 888880 - KPLC\\nPREPAID Acc. 371745...      NaN   \n",
       "\n",
       "     Withdrawn  Balance        Date      Time  \n",
       "11        80.0    526.0  2024-12-23  14:55:51  \n",
       "72       100.0     46.0  2024-12-20  12:34:45  \n",
       "161      100.0     94.0  2024-12-15  21:37:20  \n",
       "266       30.0     31.0  2024-12-10  18:47:58  \n",
       "291       80.0     26.0  2024-12-09  09:05:28  \n",
       "368       70.0    134.0  2024-12-04  18:53:03  \n",
       "526      100.0      1.0  2024-11-28  21:36:08  \n",
       "564       30.0    114.0  2024-11-27  18:21:28  \n",
       "577       50.0     63.0  2024-11-26  19:10:44  \n",
       "628      100.0    110.0  2024-11-22  19:22:36  "
      ]
     },
     "execution_count": 130,
     "metadata": {},
     "output_type": "execute_result"
    }
   ],
   "source": [
    "kenya_power_bill = utl.filter_rows_by_characters(transfered, 'Details', 'kplc')\n",
    "kenya_power_bill.head(10)"
   ]
  },
  {
   "cell_type": "code",
   "execution_count": 131,
   "id": "139b5975",
   "metadata": {},
   "outputs": [
    {
     "name": "stdout",
     "output_type": "stream",
     "text": [
      "Your total bill on electricity is KSH 3360.0\n"
     ]
    }
   ],
   "source": [
    "total_kplc_bill =kenya_power_bill['Withdrawn'].sum()\n",
    "print(f'Your total bill on electricity is KSH {total_kplc_bill}')"
   ]
  },
  {
   "cell_type": "code",
   "execution_count": 132,
   "id": "1718af5f",
   "metadata": {},
   "outputs": [
    {
     "name": "stdout",
     "output_type": "stream",
     "text": [
      "                                 Withdrawn\n",
      "Receipt No. Date       Time               \n",
      "SHO04T2YFQ  2024-08-24 12:38:01      190.0\n",
      "SIC6E0LWZO  2024-09-12 21:14:19      150.0\n",
      "SFO9JB86XR  2024-06-24 20:31:32      140.0\n",
      "SLK066PFEE  2024-12-20 12:34:45      100.0\n",
      "SLF6M0P1HQ  2024-12-15 21:37:20      100.0\n",
      "SGG7W5KFFF  2024-07-16 21:11:24      100.0\n",
      "SKS7HUP50Z  2024-11-28 21:36:08      100.0\n",
      "SKM5QXWMZH  2024-11-22 19:22:36      100.0\n",
      "SJS3QY59Y5  2024-10-28 21:10:50      100.0\n",
      "SJC8UYTSC0  2024-10-12 19:26:00      100.0\n"
     ]
    }
   ],
   "source": [
    "# Group by Receipt No to see total paid out\n",
    "kenya_power_bill_grouped_by_receipt_no = kenya_power_bill.groupby(['Receipt No.','Date', 'Time']).agg({'Withdrawn': 'sum'}).sort_values(by='Withdrawn', ascending=False)\n",
    "print(kenya_power_bill_grouped_by_receipt_no.head(10))"
   ]
  },
  {
   "cell_type": "code",
   "execution_count": 133,
   "id": "2ce64350",
   "metadata": {},
   "outputs": [],
   "source": [
    "kenya_power_bill_grouped_by_receipt_no.to_csv('kenya_power_bill_grouped_by_receipt_no.csv')"
   ]
  },
  {
   "cell_type": "markdown",
   "id": "7a51e068",
   "metadata": {},
   "source": [
    "## Safaricom bill(Bundle purchase/recharge)"
   ]
  },
  {
   "cell_type": "code",
   "execution_count": 134,
   "id": "30560e52",
   "metadata": {},
   "outputs": [
    {
     "data": {
      "text/html": [
       "<div>\n",
       "<style scoped>\n",
       "    .dataframe tbody tr th:only-of-type {\n",
       "        vertical-align: middle;\n",
       "    }\n",
       "\n",
       "    .dataframe tbody tr th {\n",
       "        vertical-align: top;\n",
       "    }\n",
       "\n",
       "    .dataframe thead th {\n",
       "        text-align: right;\n",
       "    }\n",
       "</style>\n",
       "<table border=\"1\" class=\"dataframe\">\n",
       "  <thead>\n",
       "    <tr style=\"text-align: right;\">\n",
       "      <th></th>\n",
       "      <th>Receipt No.</th>\n",
       "      <th>Details</th>\n",
       "      <th>Paid In</th>\n",
       "      <th>Withdrawn</th>\n",
       "      <th>Balance</th>\n",
       "      <th>Date</th>\n",
       "      <th>Time</th>\n",
       "    </tr>\n",
       "  </thead>\n",
       "  <tbody>\n",
       "    <tr>\n",
       "      <th>0</th>\n",
       "      <td>SLO4NDVHNM</td>\n",
       "      <td>Customer Bundle Purchase to\\n244441SAFARICOM P...</td>\n",
       "      <td>NaN</td>\n",
       "      <td>20.0</td>\n",
       "      <td>0.0</td>\n",
       "      <td>2024-12-24</td>\n",
       "      <td>12:00:00</td>\n",
       "    </tr>\n",
       "    <tr>\n",
       "      <th>17</th>\n",
       "      <td>SLN8HNFFY4</td>\n",
       "      <td>Customer Bundle Purchase to\\n244441SAFARICOM P...</td>\n",
       "      <td>NaN</td>\n",
       "      <td>20.0</td>\n",
       "      <td>37.0</td>\n",
       "      <td>2024-12-23</td>\n",
       "      <td>01:07:50</td>\n",
       "    </tr>\n",
       "    <tr>\n",
       "      <th>64</th>\n",
       "      <td>SLK18QZUR5</td>\n",
       "      <td>Customer Bundle Purchase to\\n244441SAFARICOM P...</td>\n",
       "      <td>NaN</td>\n",
       "      <td>20.0</td>\n",
       "      <td>105.0</td>\n",
       "      <td>2024-12-20</td>\n",
       "      <td>21:17:36</td>\n",
       "    </tr>\n",
       "    <tr>\n",
       "      <th>78</th>\n",
       "      <td>SLJ34K6L2P</td>\n",
       "      <td>Customer Bundle Purchase to\\n826915Safaricom O...</td>\n",
       "      <td>NaN</td>\n",
       "      <td>20.0</td>\n",
       "      <td>41.0</td>\n",
       "      <td>2024-12-19</td>\n",
       "      <td>22:07:12</td>\n",
       "    </tr>\n",
       "    <tr>\n",
       "      <th>95</th>\n",
       "      <td>SLJ8287PII</td>\n",
       "      <td>Customer Bundle Purchase to\\n244441SAFARICOM P...</td>\n",
       "      <td>NaN</td>\n",
       "      <td>20.0</td>\n",
       "      <td>33.0</td>\n",
       "      <td>2024-12-19</td>\n",
       "      <td>13:53:52</td>\n",
       "    </tr>\n",
       "    <tr>\n",
       "      <th>98</th>\n",
       "      <td>SLI8XS9QE8</td>\n",
       "      <td>Customer Bundle Purchase to\\n244441SAFARICOM P...</td>\n",
       "      <td>NaN</td>\n",
       "      <td>20.0</td>\n",
       "      <td>160.0</td>\n",
       "      <td>2024-12-18</td>\n",
       "      <td>17:49:15</td>\n",
       "    </tr>\n",
       "    <tr>\n",
       "      <th>99</th>\n",
       "      <td>SLI5WV0NQX</td>\n",
       "      <td>Customer Bundle Purchase to\\n244441SAFARICOM P...</td>\n",
       "      <td>NaN</td>\n",
       "      <td>20.0</td>\n",
       "      <td>180.0</td>\n",
       "      <td>2024-12-18</td>\n",
       "      <td>14:13:04</td>\n",
       "    </tr>\n",
       "    <tr>\n",
       "      <th>100</th>\n",
       "      <td>SLH1UYO07L</td>\n",
       "      <td>Customer Bundle Purchase to\\n244441SAFARICOM P...</td>\n",
       "      <td>NaN</td>\n",
       "      <td>20.0</td>\n",
       "      <td>0.0</td>\n",
       "      <td>2024-12-17</td>\n",
       "      <td>23:11:38</td>\n",
       "    </tr>\n",
       "    <tr>\n",
       "      <th>105</th>\n",
       "      <td>SLH7UJOARR</td>\n",
       "      <td>Pay Bill Online to 826915 -\\nSafaricom Offers ...</td>\n",
       "      <td>NaN</td>\n",
       "      <td>40.0</td>\n",
       "      <td>60.0</td>\n",
       "      <td>2024-12-17</td>\n",
       "      <td>21:01:29</td>\n",
       "    </tr>\n",
       "    <tr>\n",
       "      <th>120</th>\n",
       "      <td>SLH7SARXDB</td>\n",
       "      <td>Pay Bill Online to 826915 -\\nSafaricom Offers ...</td>\n",
       "      <td>NaN</td>\n",
       "      <td>40.0</td>\n",
       "      <td>127.0</td>\n",
       "      <td>2024-12-17</td>\n",
       "      <td>13:27:58</td>\n",
       "    </tr>\n",
       "  </tbody>\n",
       "</table>\n",
       "</div>"
      ],
      "text/plain": [
       "    Receipt No.                                            Details  Paid In  \\\n",
       "0    SLO4NDVHNM  Customer Bundle Purchase to\\n244441SAFARICOM P...      NaN   \n",
       "17   SLN8HNFFY4  Customer Bundle Purchase to\\n244441SAFARICOM P...      NaN   \n",
       "64   SLK18QZUR5  Customer Bundle Purchase to\\n244441SAFARICOM P...      NaN   \n",
       "78   SLJ34K6L2P  Customer Bundle Purchase to\\n826915Safaricom O...      NaN   \n",
       "95   SLJ8287PII  Customer Bundle Purchase to\\n244441SAFARICOM P...      NaN   \n",
       "98   SLI8XS9QE8  Customer Bundle Purchase to\\n244441SAFARICOM P...      NaN   \n",
       "99   SLI5WV0NQX  Customer Bundle Purchase to\\n244441SAFARICOM P...      NaN   \n",
       "100  SLH1UYO07L  Customer Bundle Purchase to\\n244441SAFARICOM P...      NaN   \n",
       "105  SLH7UJOARR  Pay Bill Online to 826915 -\\nSafaricom Offers ...      NaN   \n",
       "120  SLH7SARXDB  Pay Bill Online to 826915 -\\nSafaricom Offers ...      NaN   \n",
       "\n",
       "     Withdrawn  Balance        Date      Time  \n",
       "0         20.0      0.0  2024-12-24  12:00:00  \n",
       "17        20.0     37.0  2024-12-23  01:07:50  \n",
       "64        20.0    105.0  2024-12-20  21:17:36  \n",
       "78        20.0     41.0  2024-12-19  22:07:12  \n",
       "95        20.0     33.0  2024-12-19  13:53:52  \n",
       "98        20.0    160.0  2024-12-18  17:49:15  \n",
       "99        20.0    180.0  2024-12-18  14:13:04  \n",
       "100       20.0      0.0  2024-12-17  23:11:38  \n",
       "105       40.0     60.0  2024-12-17  21:01:29  \n",
       "120       40.0    127.0  2024-12-17  13:27:58  "
      ]
     },
     "execution_count": 134,
     "metadata": {},
     "output_type": "execute_result"
    }
   ],
   "source": [
    "safaricom_bill = utl.filter_rows_by_characters(transfered, 'Details', 'safaricom')\n",
    "safaricom_bill.head(10)"
   ]
  },
  {
   "cell_type": "code",
   "execution_count": 135,
   "id": "5409c725",
   "metadata": {},
   "outputs": [
    {
     "name": "stdout",
     "output_type": "stream",
     "text": [
      "You had 520 transactions with Safaricom\n"
     ]
    }
   ],
   "source": [
    "print(f'You had {safaricom_bill.shape[0]} transactions with Safaricom')"
   ]
  },
  {
   "cell_type": "code",
   "execution_count": 136,
   "id": "6fe7caab",
   "metadata": {},
   "outputs": [
    {
     "name": "stdout",
     "output_type": "stream",
     "text": [
      "Your total bill on safaricom services amounts to KSH 8822.0\n"
     ]
    }
   ],
   "source": [
    "total_safaricom_bill = safaricom_bill['Withdrawn'].sum()\n",
    "print(f'Your total bill on safaricom services amounts to KSH {total_safaricom_bill}')"
   ]
  },
  {
   "cell_type": "code",
   "execution_count": 137,
   "id": "3bb467e9",
   "metadata": {},
   "outputs": [],
   "source": [
    "safaricom_bill.to_csv('safaricom_bill.csv')"
   ]
  },
  {
   "cell_type": "code",
   "execution_count": 138,
   "id": "cca570c2",
   "metadata": {},
   "outputs": [
    {
     "data": {
      "text/plain": [
       "<bound method Series.unique of 0       Customer Bundle Purchase to\\n244441SAFARICOM P...\n",
       "17      Customer Bundle Purchase to\\n244441SAFARICOM P...\n",
       "64      Customer Bundle Purchase to\\n244441SAFARICOM P...\n",
       "78      Customer Bundle Purchase to\\n826915Safaricom O...\n",
       "95      Customer Bundle Purchase to\\n244441SAFARICOM P...\n",
       "                              ...                        \n",
       "3254    Pay Bill Online to 826915 -\\nSafaricom Offers ...\n",
       "3257    Pay Bill Online to 826915 -\\nSafaricom Offers ...\n",
       "3258    Pay Bill Online to 826915 -\\nSafaricom Offers ...\n",
       "3260    Pay Bill Online to 826915 -\\nSafaricom Offers ...\n",
       "3262    Pay Bill Online to 826915 -\\nSafaricom Offers ...\n",
       "Name: Details, Length: 520, dtype: object>"
      ]
     },
     "execution_count": 138,
     "metadata": {},
     "output_type": "execute_result"
    }
   ],
   "source": [
    "safaricom_bill['Details'].unique"
   ]
  },
  {
   "cell_type": "code",
   "execution_count": 139,
   "id": "c4d38e80",
   "metadata": {},
   "outputs": [
    {
     "name": "stdout",
     "output_type": "stream",
     "text": [
      "                                                                        Withdrawn\n",
      "Details                                            Date       Time               \n",
      "Pay Bill Online to 826915 -\\nSafaricom Offers A... 2024-10-14 15:50:32       71.0\n",
      "                                                   2024-11-20 18:21:03       50.0\n",
      "                                                   2024-12-17 21:01:29       40.0\n",
      "                                                   2024-09-10 10:55:17       40.0\n",
      "                                                   2024-11-30 09:38:20       40.0\n",
      "                                                   2024-11-27 14:09:05       40.0\n",
      "                                                   2024-07-10 23:17:34       40.0\n",
      "                                                   2024-07-04 13:26:47       40.0\n",
      "                                                   2024-12-17 13:27:58       40.0\n",
      "                                                   2024-12-15 22:06:46       40.0\n"
     ]
    }
   ],
   "source": [
    "# Group by Receipt No to see total paid out\n",
    "safaricom_bill_grouped_by_details = safaricom_bill.groupby(['Details','Date', 'Time']).agg({'Withdrawn': 'sum'}).sort_values(by='Withdrawn', ascending=False)\n",
    "print(safaricom_bill_grouped_by_details.head(10))"
   ]
  },
  {
   "cell_type": "code",
   "execution_count": 140,
   "id": "395d8d0c",
   "metadata": {},
   "outputs": [
    {
     "data": {
      "text/plain": [
       "(520, 1)"
      ]
     },
     "execution_count": 140,
     "metadata": {},
     "output_type": "execute_result"
    }
   ],
   "source": [
    "safaricom_bill_grouped_by_details.shape"
   ]
  },
  {
   "cell_type": "markdown",
   "id": "c82ca29c",
   "metadata": {},
   "source": [
    "## 2. Basic Analysis of Paid In and Withdrawn Amounts"
   ]
  },
  {
   "cell_type": "code",
   "execution_count": 141,
   "id": "de9b2afe",
   "metadata": {},
   "outputs": [
    {
     "name": "stdout",
     "output_type": "stream",
     "text": [
      "Total Transactions:  5029\n",
      "Total Paid In:  259667.0\n",
      "Total Withdrawn:  260462.0\n"
     ]
    }
   ],
   "source": [
    "# Total number of transactions\n",
    "total_transactions = len(data)\n",
    "print(\"Total Transactions: \", total_transactions)\n",
    "\n",
    "# Total Paid In\n",
    "total_paid_in = data[\"Paid In\"].sum()\n",
    "print(\"Total Paid In: \", total_paid_in)\n",
    "\n",
    "# Total Withdrawn\n",
    "total_withdrawn = data[\"Withdrawn\"].sum()\n",
    "print(\"Total Withdrawn: \", total_withdrawn)\n",
    "\n"
   ]
  },
  {
   "cell_type": "markdown",
   "id": "7da84ee8",
   "metadata": {},
   "source": [
    "# Visual summary"
   ]
  },
  {
   "cell_type": "code",
   "execution_count": 142,
   "id": "a30ffcd2",
   "metadata": {},
   "outputs": [
    {
     "data": {
      "image/png": "[encoded data removed]",
      "text/plain": [
       "<Figure size 640x480 with 1 Axes>"
      ]
     },
     "metadata": {},
     "output_type": "display_data"
    }
   ],
   "source": [
    "# Summarize paid in and withdrawn amounts\n",
    "summary = data[['Paid In', 'Withdrawn']].sum()\n",
    "summary.plot(kind='pie', autopct='%1.1f%%', colors=['green', 'red'], labels=['Paid In', 'Withdrawn'])\n",
    "plt.title('Summary of Transactions')\n",
    "plt.ylabel('')\n",
    "plt.show()"
   ]
  },
  {
   "cell_type": "markdown",
   "id": "805ec57c",
   "metadata": {},
   "source": [
    "## 3. Top 10 Sources of Incoming Payments and Withdrawals"
   ]
  },
  {
   "cell_type": "code",
   "execution_count": 143,
   "id": "4138ffca",
   "metadata": {},
   "outputs": [
    {
     "data": {
      "image/png": "[encoded data removed]",
      "text/plain": [
       "<Figure size 640x480 with 1 Axes>"
      ]
     },
     "metadata": {},
     "output_type": "display_data"
    }
   ],
   "source": [
    "# Top 10 sources of Paid In\n",
    "top_paid_in_sources = data.groupby('Details')['Paid In'].sum().nlargest(10)\n",
    "top_paid_in_sources.plot(kind='bar', color='green')\n",
    "plt.title('Top 10 Sources of Paid In')\n",
    "plt.ylabel('Amount')\n",
    "plt.show()\n",
    "\n"
   ]
  },
  {
   "cell_type": "code",
   "execution_count": 144,
   "id": "58dbac4d",
   "metadata": {},
   "outputs": [
    {
     "data": {
      "image/png": "[encoded data removed]",
      "text/plain": [
       "<Figure size 640x480 with 1 Axes>"
      ]
     },
     "metadata": {},
     "output_type": "display_data"
    }
   ],
   "source": [
    "# Top 10 sources of Withdrawn\n",
    "top_withdrawn_sources = data.groupby('Details')['Withdrawn'].sum().nlargest(10)\n",
    "top_withdrawn_sources.plot(kind='bar', color='red')\n",
    "plt.title('Top 10 Sources of Withdrawn')\n",
    "plt.ylabel('Amount')\n",
    "plt.show()"
   ]
  },
  {
   "cell_type": "markdown",
   "id": "bd8c8c12",
   "metadata": {},
   "source": [
    "## 4. Query Transactions Above a Given Threshold"
   ]
  },
  {
   "cell_type": "code",
   "execution_count": 145,
   "id": "1f883dcf",
   "metadata": {},
   "outputs": [
    {
     "data": {
      "text/plain": [
       "(     Receipt No.                                           Details  Paid In  \\\n",
       " 4602  SD99MIE6HH  Funds received from -\\n07******305 NOAH CHIRCHIR  12300.0   \n",
       " \n",
       "       Withdrawn  Balance        Date      Time  \n",
       " 4602        NaN  12715.0  2024-04-09  12:30:50  ,\n",
       " Empty DataFrame\n",
       " Columns: [Receipt No., Details, Paid In, Withdrawn, Balance, Date, Time]\n",
       " Index: [])"
      ]
     },
     "execution_count": 145,
     "metadata": {},
     "output_type": "execute_result"
    }
   ],
   "source": [
    "# Query for transactions above a given threshold (e.g., 10,000)\n",
    "threshold = 10000\n",
    "high_value_paid_in = data[data['Paid In'] > threshold].sort_values(by='Paid In', ascending=False)\n",
    "high_value_withdrawn = data[data['Withdrawn'] > threshold].sort_values(by='Withdrawn', ascending=False)\n",
    "\n",
    "# Display results\n",
    "high_value_paid_in.head(), high_value_withdrawn.head()"
   ]
  },
  {
   "cell_type": "markdown",
   "id": "6fbea271",
   "metadata": {},
   "source": [
    "## 5. Query Transactions Related to a Specific Customer or Merchant"
   ]
  },
  {
   "cell_type": "code",
   "execution_count": 146,
   "id": "55d01086",
   "metadata": {},
   "outputs": [
    {
     "data": {
      "text/plain": [
       "(38, 7)"
      ]
     },
     "execution_count": 146,
     "metadata": {},
     "output_type": "execute_result"
    }
   ],
   "source": [
    "# Query for a specific customer or merchant\n",
    "search_term = 'withdrawal'\n",
    "filtered_data = data[data['Details'].str.contains(search_term, case=False, na=False)]\n",
    "filtered_data.shape"
   ]
  },
  {
   "cell_type": "markdown",
   "id": "94908fd0",
   "metadata": {},
   "source": [
    "## 6. Balance Trend Over Time"
   ]
  },
  {
   "cell_type": "code",
   "execution_count": 149,
   "id": "9b5319d0",
   "metadata": {},
   "outputs": [
    {
     "data": {
      "image/png": "[encoded data removed]",
      "text/plain": [
       "<Figure size 1000x600 with 1 Axes>"
      ]
     },
     "metadata": {},
     "output_type": "display_data"
    }
   ],
   "source": [
    "plt.figure(figsize=(10, 6))\n",
    "sns.lineplot(data=data, x=range(len(data)), y=\"Balance\")\n",
    "plt.title(\"Balance Trend Over Time\")\n",
    "plt.xlabel(\"Transaction Number\")\n",
    "plt.ylabel(\"Balance\")\n",
    "plt.show()"
   ]
  }
 ],
 "metadata": {
  "kernelspec": {
   "display_name": "Python 3 (ipykernel)",
   "language": "python",
   "name": "python3"
  },
  "language_info": {
   "codemirror_mode": {
    "name": "ipython",
    "version": 3
   },
   "file_extension": ".py",
   "mimetype": "text/x-python",
   "name": "python",
   "nbconvert_exporter": "python",
   "pygments_lexer": "ipython3",
   "version": "3.9.13"
  }
 },
 "nbformat": 4,
 "nbformat_minor": 5
}
