{
 "cells": [
  {
   "cell_type": "markdown",
   "id": "8714bbe9",
   "metadata": {},
   "source": [
    "# M-PESA Statement Analysis"
   ]
  },
  {
   "cell_type": "markdown",
   "id": "2e9e9c25",
   "metadata": {},
   "source": [
    "## 1. Load and Clean the Dataset"
   ]
  },
  {
   "cell_type": "code",
   "execution_count": 1,
   "id": "7f0f4428",
   "metadata": {},
   "outputs": [],
   "source": [
    "# Load necessary libraries\n",
    "import pandas as pd\n",
    "import matplotlib.pyplot as plt\n",
    "import seaborn as sns\n",
    "import pdfplumber\n",
    "import csv\n"
   ]
  },
  {
   "cell_type": "code",
   "execution_count": 2,
   "id": "0fbb4135",
   "metadata": {},
   "outputs": [
    {
     "name": "stdout",
     "output_type": "stream",
     "text": [
      "                 Receipt No. Completion Time     Details Transaction Status  \\\n",
      "0                SEND MONEY:            0.00  102,383.00               None   \n",
      "1            RECEIVED MONEY:      175,743.00        0.00               None   \n",
      "2             AGENT DEPOSIT:       10,515.00        0.00               None   \n",
      "3          AGENT WITHDRAWAL:            0.00   16,887.00               None   \n",
      "4  LIPA NA M-PESA (PAYBILL):            0.00   40,738.00               None   \n",
      "\n",
      "  Paid In Withdrawn Balance  \n",
      "0    None      None    None  \n",
      "1    None      None    None  \n",
      "2    None      None    None  \n",
      "3    None      None    None  \n",
      "4    None      None    None  \n"
     ]
    }
   ],
   "source": [
    "# Open the PDF file\n",
    "pdf_file = \"MPESA_Statement_2024-01-01_to_2024-12-24_2547xxxxxx374_unlocked.pdf\"\n",
    "\n",
    "# Extract the table data\n",
    "with pdfplumber.open(pdf_file) as pdf:\n",
    "    all_data = []\n",
    "    for page in pdf.pages:\n",
    "        tables = page.extract_tables()\n",
    "        for table in tables:\n",
    "            all_data.extend(table)\n",
    "\n",
    "# Set the appropriate column names for the dataframe\n",
    "columns = [\"Receipt No.\", \"Completion Time\", \"Details\", \"Transaction Status\", \"Paid In\", \"Withdrawn\", \"Balance\"]\n",
    "transactions = pd.DataFrame(all_data[1:], columns=columns)  # Skip header row from the data\n",
    "print(transactions.head())"
   ]
  },
  {
   "cell_type": "code",
   "execution_count": null,
   "id": "f735241b",
   "metadata": {},
   "outputs": [],
   "source": [
    "# Save to CSV\n",
    "csv_file = \"mpesa_statement.csv\"\n",
    "with open(csv_file, \"w\", newline=\"\", encoding=\"utf-8\") as f:\n",
    "    writer = csv.writer(f)\n",
    "    writer.writerows(all_data)\n",
    "\n",
    "print(f\"Data saved to {csv_file}\")"
   ]
  },
  {
   "cell_type": "code",
   "execution_count": 4,
   "id": "1d3a76bb",
   "metadata": {},
   "outputs": [
    {
     "ename": "ParserError",
     "evalue": "Error tokenizing data. C error: Expected 3 fields in line 10, saw 7\n",
     "output_type": "error",
     "traceback": [
      "\u001b[1;31m---------------------------------------------------------------------------\u001b[0m",
      "\u001b[1;31mParserError\u001b[0m                               Traceback (most recent call last)",
      "\u001b[1;32m~\\AppData\\Local\\Temp\\ipykernel_5544\\675458366.py\u001b[0m in \u001b[0;36m<module>\u001b[1;34m\u001b[0m\n\u001b[0;32m      1\u001b[0m \u001b[1;31m# Load the extracted CSV\u001b[0m\u001b[1;33m\u001b[0m\u001b[1;33m\u001b[0m\u001b[0m\n\u001b[1;32m----> 2\u001b[1;33m \u001b[0mdf\u001b[0m \u001b[1;33m=\u001b[0m \u001b[0mpd\u001b[0m\u001b[1;33m.\u001b[0m\u001b[0mread_csv\u001b[0m\u001b[1;33m(\u001b[0m\u001b[1;34m\"mpesa_statement.csv\"\u001b[0m\u001b[1;33m)\u001b[0m\u001b[1;33m\u001b[0m\u001b[1;33m\u001b[0m\u001b[0m\n\u001b[0m\u001b[0;32m      3\u001b[0m \u001b[0mdf\u001b[0m\u001b[1;33m.\u001b[0m\u001b[0mhead\u001b[0m\u001b[1;33m(\u001b[0m\u001b[1;33m)\u001b[0m\u001b[1;33m\u001b[0m\u001b[1;33m\u001b[0m\u001b[0m\n\u001b[0;32m      4\u001b[0m \u001b[1;33m\u001b[0m\u001b[0m\n\u001b[0;32m      5\u001b[0m '''# Rename columns\n",
      "\u001b[1;32m~\\anaconda3\\lib\\site-packages\\pandas\\util\\_decorators.py\u001b[0m in \u001b[0;36mwrapper\u001b[1;34m(*args, **kwargs)\u001b[0m\n\u001b[0;32m    309\u001b[0m                     \u001b[0mstacklevel\u001b[0m\u001b[1;33m=\u001b[0m\u001b[0mstacklevel\u001b[0m\u001b[1;33m,\u001b[0m\u001b[1;33m\u001b[0m\u001b[1;33m\u001b[0m\u001b[0m\n\u001b[0;32m    310\u001b[0m                 )\n\u001b[1;32m--> 311\u001b[1;33m             \u001b[1;32mreturn\u001b[0m \u001b[0mfunc\u001b[0m\u001b[1;33m(\u001b[0m\u001b[1;33m*\u001b[0m\u001b[0margs\u001b[0m\u001b[1;33m,\u001b[0m \u001b[1;33m**\u001b[0m\u001b[0mkwargs\u001b[0m\u001b[1;33m)\u001b[0m\u001b[1;33m\u001b[0m\u001b[1;33m\u001b[0m\u001b[0m\n\u001b[0m\u001b[0;32m    312\u001b[0m \u001b[1;33m\u001b[0m\u001b[0m\n\u001b[0;32m    313\u001b[0m         \u001b[1;32mreturn\u001b[0m \u001b[0mwrapper\u001b[0m\u001b[1;33m\u001b[0m\u001b[1;33m\u001b[0m\u001b[0m\n",
      "\u001b[1;32m~\\anaconda3\\lib\\site-packages\\pandas\\io\\parsers\\readers.py\u001b[0m in \u001b[0;36mread_csv\u001b[1;34m(filepath_or_buffer, sep, delimiter, header, names, index_col, usecols, squeeze, prefix, mangle_dupe_cols, dtype, engine, converters, true_values, false_values, skipinitialspace, skiprows, skipfooter, nrows, na_values, keep_default_na, na_filter, verbose, skip_blank_lines, parse_dates, infer_datetime_format, keep_date_col, date_parser, dayfirst, cache_dates, iterator, chunksize, compression, thousands, decimal, lineterminator, quotechar, quoting, doublequote, escapechar, comment, encoding, encoding_errors, dialect, error_bad_lines, warn_bad_lines, on_bad_lines, delim_whitespace, low_memory, memory_map, float_precision, storage_options)\u001b[0m\n\u001b[0;32m    676\u001b[0m     \u001b[0mkwds\u001b[0m\u001b[1;33m.\u001b[0m\u001b[0mupdate\u001b[0m\u001b[1;33m(\u001b[0m\u001b[0mkwds_defaults\u001b[0m\u001b[1;33m)\u001b[0m\u001b[1;33m\u001b[0m\u001b[1;33m\u001b[0m\u001b[0m\n\u001b[0;32m    677\u001b[0m \u001b[1;33m\u001b[0m\u001b[0m\n\u001b[1;32m--> 678\u001b[1;33m     \u001b[1;32mreturn\u001b[0m \u001b[0m_read\u001b[0m\u001b[1;33m(\u001b[0m\u001b[0mfilepath_or_buffer\u001b[0m\u001b[1;33m,\u001b[0m \u001b[0mkwds\u001b[0m\u001b[1;33m)\u001b[0m\u001b[1;33m\u001b[0m\u001b[1;33m\u001b[0m\u001b[0m\n\u001b[0m\u001b[0;32m    679\u001b[0m \u001b[1;33m\u001b[0m\u001b[0m\n\u001b[0;32m    680\u001b[0m \u001b[1;33m\u001b[0m\u001b[0m\n",
      "\u001b[1;32m~\\anaconda3\\lib\\site-packages\\pandas\\io\\parsers\\readers.py\u001b[0m in \u001b[0;36m_read\u001b[1;34m(filepath_or_buffer, kwds)\u001b[0m\n\u001b[0;32m    579\u001b[0m \u001b[1;33m\u001b[0m\u001b[0m\n\u001b[0;32m    580\u001b[0m     \u001b[1;32mwith\u001b[0m \u001b[0mparser\u001b[0m\u001b[1;33m:\u001b[0m\u001b[1;33m\u001b[0m\u001b[1;33m\u001b[0m\u001b[0m\n\u001b[1;32m--> 581\u001b[1;33m         \u001b[1;32mreturn\u001b[0m \u001b[0mparser\u001b[0m\u001b[1;33m.\u001b[0m\u001b[0mread\u001b[0m\u001b[1;33m(\u001b[0m\u001b[0mnrows\u001b[0m\u001b[1;33m)\u001b[0m\u001b[1;33m\u001b[0m\u001b[1;33m\u001b[0m\u001b[0m\n\u001b[0m\u001b[0;32m    582\u001b[0m \u001b[1;33m\u001b[0m\u001b[0m\n\u001b[0;32m    583\u001b[0m \u001b[1;33m\u001b[0m\u001b[0m\n",
      "\u001b[1;32m~\\anaconda3\\lib\\site-packages\\pandas\\io\\parsers\\readers.py\u001b[0m in \u001b[0;36mread\u001b[1;34m(self, nrows)\u001b[0m\n\u001b[0;32m   1251\u001b[0m             \u001b[0mnrows\u001b[0m \u001b[1;33m=\u001b[0m \u001b[0mvalidate_integer\u001b[0m\u001b[1;33m(\u001b[0m\u001b[1;34m\"nrows\"\u001b[0m\u001b[1;33m,\u001b[0m \u001b[0mnrows\u001b[0m\u001b[1;33m)\u001b[0m\u001b[1;33m\u001b[0m\u001b[1;33m\u001b[0m\u001b[0m\n\u001b[0;32m   1252\u001b[0m             \u001b[1;32mtry\u001b[0m\u001b[1;33m:\u001b[0m\u001b[1;33m\u001b[0m\u001b[1;33m\u001b[0m\u001b[0m\n\u001b[1;32m-> 1253\u001b[1;33m                 \u001b[0mindex\u001b[0m\u001b[1;33m,\u001b[0m \u001b[0mcolumns\u001b[0m\u001b[1;33m,\u001b[0m \u001b[0mcol_dict\u001b[0m \u001b[1;33m=\u001b[0m \u001b[0mself\u001b[0m\u001b[1;33m.\u001b[0m\u001b[0m_engine\u001b[0m\u001b[1;33m.\u001b[0m\u001b[0mread\u001b[0m\u001b[1;33m(\u001b[0m\u001b[0mnrows\u001b[0m\u001b[1;33m)\u001b[0m\u001b[1;33m\u001b[0m\u001b[1;33m\u001b[0m\u001b[0m\n\u001b[0m\u001b[0;32m   1254\u001b[0m             \u001b[1;32mexcept\u001b[0m \u001b[0mException\u001b[0m\u001b[1;33m:\u001b[0m\u001b[1;33m\u001b[0m\u001b[1;33m\u001b[0m\u001b[0m\n\u001b[0;32m   1255\u001b[0m                 \u001b[0mself\u001b[0m\u001b[1;33m.\u001b[0m\u001b[0mclose\u001b[0m\u001b[1;33m(\u001b[0m\u001b[1;33m)\u001b[0m\u001b[1;33m\u001b[0m\u001b[1;33m\u001b[0m\u001b[0m\n",
      "\u001b[1;32m~\\anaconda3\\lib\\site-packages\\pandas\\io\\parsers\\c_parser_wrapper.py\u001b[0m in \u001b[0;36mread\u001b[1;34m(self, nrows)\u001b[0m\n\u001b[0;32m    223\u001b[0m         \u001b[1;32mtry\u001b[0m\u001b[1;33m:\u001b[0m\u001b[1;33m\u001b[0m\u001b[1;33m\u001b[0m\u001b[0m\n\u001b[0;32m    224\u001b[0m             \u001b[1;32mif\u001b[0m \u001b[0mself\u001b[0m\u001b[1;33m.\u001b[0m\u001b[0mlow_memory\u001b[0m\u001b[1;33m:\u001b[0m\u001b[1;33m\u001b[0m\u001b[1;33m\u001b[0m\u001b[0m\n\u001b[1;32m--> 225\u001b[1;33m                 \u001b[0mchunks\u001b[0m \u001b[1;33m=\u001b[0m \u001b[0mself\u001b[0m\u001b[1;33m.\u001b[0m\u001b[0m_reader\u001b[0m\u001b[1;33m.\u001b[0m\u001b[0mread_low_memory\u001b[0m\u001b[1;33m(\u001b[0m\u001b[0mnrows\u001b[0m\u001b[1;33m)\u001b[0m\u001b[1;33m\u001b[0m\u001b[1;33m\u001b[0m\u001b[0m\n\u001b[0m\u001b[0;32m    226\u001b[0m                 \u001b[1;31m# destructive to chunks\u001b[0m\u001b[1;33m\u001b[0m\u001b[1;33m\u001b[0m\u001b[0m\n\u001b[0;32m    227\u001b[0m                 \u001b[0mdata\u001b[0m \u001b[1;33m=\u001b[0m \u001b[0m_concatenate_chunks\u001b[0m\u001b[1;33m(\u001b[0m\u001b[0mchunks\u001b[0m\u001b[1;33m)\u001b[0m\u001b[1;33m\u001b[0m\u001b[1;33m\u001b[0m\u001b[0m\n",
      "\u001b[1;32m~\\anaconda3\\lib\\site-packages\\pandas\\_libs\\parsers.pyx\u001b[0m in \u001b[0;36mpandas._libs.parsers.TextReader.read_low_memory\u001b[1;34m()\u001b[0m\n",
      "\u001b[1;32m~\\anaconda3\\lib\\site-packages\\pandas\\_libs\\parsers.pyx\u001b[0m in \u001b[0;36mpandas._libs.parsers.TextReader._read_rows\u001b[1;34m()\u001b[0m\n",
      "\u001b[1;32m~\\anaconda3\\lib\\site-packages\\pandas\\_libs\\parsers.pyx\u001b[0m in \u001b[0;36mpandas._libs.parsers.TextReader._tokenize_rows\u001b[1;34m()\u001b[0m\n",
      "\u001b[1;32m~\\anaconda3\\lib\\site-packages\\pandas\\_libs\\parsers.pyx\u001b[0m in \u001b[0;36mpandas._libs.parsers.raise_parser_error\u001b[1;34m()\u001b[0m\n",
      "\u001b[1;31mParserError\u001b[0m: Error tokenizing data. C error: Expected 3 fields in line 10, saw 7\n"
     ]
    }
   ],
   "source": [
    "# Load the extracted CSV\n",
    "df = pd.read_csv(\"mpesa_statement.csv\")\n",
    "df.head()\n",
    "\n",
    "'''# Rename columns\n",
    "df.columns = [\"Completion Time\", \"Details\", \"Paid In\", \"Withdrawn\", \"Balance\"]\n",
    "\n",
    "# Convert financial columns to numeric\n",
    "for col in [\"Paid In\", \"Withdrawn\", \"Balance\"]:\n",
    "    df[col] = df[col].str.replace(\",\", \"\").astype(float)\n",
    "\n",
    "# Save the cleaned CSV\n",
    "cleaned_csv = \"cleaned_mpesa_statement.csv\"\n",
    "df.to_csv(cleaned_csv, index=False)\n",
    "print(f\"Cleaned data saved to {cleaned_csv}\")'''"
   ]
  },
  {
   "cell_type": "markdown",
   "id": "fbd30803",
   "metadata": {},
   "source": [
    "### Data Cleaning"
   ]
  },
  {
   "cell_type": "code",
   "execution_count": null,
   "id": "0ba5a2bf",
   "metadata": {},
   "outputs": [],
   "source": [
    "# Convert financial columns to numeric values\n",
    "columns_to_clean = ['Paid In', 'Withdrawn', 'Balance']\n",
    "for col in columns_to_clean:\n",
    "    data[col] = data[col].replace('[^0-9.]', '', regex=True).astype(float)\n",
    "\n",
    "# Convert 'Completion Time' to datetime format\n",
    "data['Completion Time'] = pd.to_datetime(data['Completion Time'])\n",
    "\n",
    "# Check for missing values\n",
    "data.isnull().sum()"
   ]
  },
  {
   "cell_type": "markdown",
   "id": "c82ca29c",
   "metadata": {},
   "source": [
    "## 2. Basic Analysis of Paid In and Withdrawn Amounts"
   ]
  },
  {
   "cell_type": "code",
   "execution_count": null,
   "id": "a30ffcd2",
   "metadata": {},
   "outputs": [],
   "source": [
    "# Summarize paid in and withdrawn amounts\n",
    "summary = data[['Paid In', 'Withdrawn']].sum()\n",
    "summary.plot(kind='pie', autopct='%1.1f%%', colors=['green', 'red'], labels=['Paid In', 'Withdrawn'])\n",
    "plt.title('Summary of Transactions')\n",
    "plt.ylabel('')\n",
    "plt.show()"
   ]
  },
  {
   "cell_type": "markdown",
   "id": "805ec57c",
   "metadata": {},
   "source": [
    "## 3. Top 10 Sources of Incoming Payments and Withdrawals"
   ]
  },
  {
   "cell_type": "code",
   "execution_count": null,
   "id": "4138ffca",
   "metadata": {},
   "outputs": [],
   "source": [
    "# Top 10 sources of Paid In\n",
    "top_paid_in_sources = data.groupby('Details')['Paid In'].sum().nlargest(10)\n",
    "top_paid_in_sources.plot(kind='bar', color='green')\n",
    "plt.title('Top 10 Sources of Paid In')\n",
    "plt.ylabel('Amount')\n",
    "plt.show()\n",
    "\n",
    "# Top 10 sources of Withdrawn\n",
    "top_withdrawn_sources = data.groupby('Details')['Withdrawn'].sum().nlargest(10)\n",
    "top_withdrawn_sources.plot(kind='bar', color='red')\n",
    "plt.title('Top 10 Sources of Withdrawn')\n",
    "plt.ylabel('Amount')\n",
    "plt.show()"
   ]
  },
  {
   "cell_type": "markdown",
   "id": "bd8c8c12",
   "metadata": {},
   "source": [
    "## 4. Query Transactions Above a Given Threshold"
   ]
  },
  {
   "cell_type": "code",
   "execution_count": null,
   "id": "1f883dcf",
   "metadata": {},
   "outputs": [],
   "source": [
    "# Query for transactions above a given threshold (e.g., 10,000)\n",
    "threshold = 10000\n",
    "high_value_paid_in = data[data['Paid In'] > threshold].sort_values(by='Paid In', ascending=False)\n",
    "high_value_withdrawn = data[data['Withdrawn'] > threshold].sort_values(by='Withdrawn', ascending=False)\n",
    "\n",
    "# Display results\n",
    "high_value_paid_in.head(), high_value_withdrawn.head()"
   ]
  },
  {
   "cell_type": "markdown",
   "id": "6fbea271",
   "metadata": {},
   "source": [
    "## 5. Query Transactions Related to a Specific Customer or Merchant"
   ]
  },
  {
   "cell_type": "code",
   "execution_count": null,
   "id": "55d01086",
   "metadata": {},
   "outputs": [],
   "source": [
    "# Query for a specific customer or merchant\n",
    "search_term = 'Customer Name or Merchant'\n",
    "filtered_data = data[data['Details'].str.contains(search_term, case=False, na=False)]\n",
    "filtered_data.head()"
   ]
  },
  {
   "cell_type": "markdown",
   "id": "94908fd0",
   "metadata": {},
   "source": [
    "## 6. Balance Trend Over Time"
   ]
  },
  {
   "cell_type": "code",
   "execution_count": null,
   "id": "9b5319d0",
   "metadata": {},
   "outputs": [],
   "source": [
    "# Extract month from 'Completion Time'\n",
    "data['Month'] = data['Completion Time'].dt.to_period('M')\n",
    "\n",
    "# Group by month and calculate average balance\n",
    "balance_trend = data.groupby('Month')['Balance'].mean()\n",
    "balance_trend.plot(kind='line', marker='o')\n",
    "plt.title('Balance Trend Over Time')\n",
    "plt.xlabel('Month')\n",
    "plt.ylabel('Balance')\n",
    "plt.grid(True)\n",
    "plt.show()"
   ]
  }
 ],
 "metadata": {
  "kernelspec": {
   "display_name": "Python 3 (ipykernel)",
   "language": "python",
   "name": "python3"
  },
  "language_info": {
   "codemirror_mode": {
    "name": "ipython",
    "version": 3
   },
   "file_extension": ".py",
   "mimetype": "text/x-python",
   "name": "python",
   "nbconvert_exporter": "python",
   "pygments_lexer": "ipython3",
   "version": "3.9.13"
  }
 },
 "nbformat": 4,
 "nbformat_minor": 5
}
