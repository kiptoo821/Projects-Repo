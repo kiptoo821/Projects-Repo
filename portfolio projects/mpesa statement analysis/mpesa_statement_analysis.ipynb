{
 "cells": [
  {
   "cell_type": "code",
   "execution_count": 6,
   "id": "06869387",
   "metadata": {},
   "outputs": [
    {
     "name": "stdout",
     "output_type": "stream",
     "text": [
      "Python 3.9.13\n"
     ]
    }
   ],
   "source": [
    "! python --version"
   ]
  },
  {
   "cell_type": "code",
   "execution_count": 8,
   "id": "48613abc",
   "metadata": {},
   "outputs": [
    {
     "name": "stdout",
     "output_type": "stream",
     "text": [
      "Collecting pdfplumber\n",
      "  Downloading pdfplumber-0.11.4-py3-none-any.whl.metadata (41 kB)\n",
      "     -------------------------------------- 42.0/42.0 kB 169.8 kB/s eta 0:00:00\n",
      "Collecting pdfminer.six==20231228 (from pdfplumber)\n",
      "  Downloading pdfminer.six-20231228-py3-none-any.whl.metadata (4.2 kB)\n",
      "Requirement already satisfied: Pillow>=9.1 in c:\\users\\mk\\anaconda3\\lib\\site-packages (from pdfplumber) (9.2.0)\n",
      "Collecting pypdfium2>=4.18.0 (from pdfplumber)\n",
      "  Downloading pypdfium2-4.30.1-py3-none-win_amd64.whl.metadata (48 kB)\n",
      "     -------------------------------------- 48.2/48.2 kB 243.5 kB/s eta 0:00:00\n",
      "Requirement already satisfied: charset-normalizer>=2.0.0 in c:\\users\\mk\\anaconda3\\lib\\site-packages (from pdfminer.six==20231228->pdfplumber) (2.0.4)\n",
      "Requirement already satisfied: cryptography>=36.0.0 in c:\\users\\mk\\anaconda3\\lib\\site-packages (from pdfminer.six==20231228->pdfplumber) (37.0.1)\n",
      "Requirement already satisfied: cffi>=1.12 in c:\\users\\mk\\anaconda3\\lib\\site-packages (from cryptography>=36.0.0->pdfminer.six==20231228->pdfplumber) (1.15.1)\n",
      "Requirement already satisfied: pycparser in c:\\users\\mk\\anaconda3\\lib\\site-packages (from cffi>=1.12->cryptography>=36.0.0->pdfminer.six==20231228->pdfplumber) (2.21)\n",
      "Downloading pdfplumber-0.11.4-py3-none-any.whl (59 kB)\n",
      "   ---------------------------------------- 59.2/59.2 kB 313.7 kB/s eta 0:00:00\n",
      "Downloading pdfminer.six-20231228-py3-none-any.whl (5.6 MB)\n",
      "   ---------------------------------------- 5.6/5.6 MB 568.4 kB/s eta 0:00:00\n",
      "Downloading pypdfium2-4.30.1-py3-none-win_amd64.whl (3.0 MB)\n",
      "   ---------------------------------------- 3.0/3.0 MB 552.0 kB/s eta 0:00:00\n",
      "Installing collected packages: pypdfium2, pdfminer.six, pdfplumber\n",
      "Successfully installed pdfminer.six-20231228 pdfplumber-0.11.4 pypdfium2-4.30.1\n"
     ]
    },
    {
     "name": "stderr",
     "output_type": "stream",
     "text": [
      "WARNING: Retrying (Retry(total=4, connect=None, read=None, redirect=None, status=None)) after connection broken by 'NewConnectionError('<pip._vendor.urllib3.connection.HTTPSConnection object at 0x00000224D3E3D640>: Failed to establish a new connection: [Errno 11001] getaddrinfo failed')': /simple/pdfplumber/\n",
      "WARNING: Retrying (Retry(total=3, connect=None, read=None, redirect=None, status=None)) after connection broken by 'NewConnectionError('<pip._vendor.urllib3.connection.HTTPSConnection object at 0x00000224D3E3D970>: Failed to establish a new connection: [Errno 11001] getaddrinfo failed')': /simple/pdfplumber/\n",
      "WARNING: Retrying (Retry(total=2, connect=None, read=None, redirect=None, status=None)) after connection broken by 'NewConnectionError('<pip._vendor.urllib3.connection.HTTPSConnection object at 0x00000224D3E3DC70>: Failed to establish a new connection: [Errno 11001] getaddrinfo failed')': /simple/pdfplumber/\n",
      "WARNING: Retrying (Retry(total=1, connect=None, read=None, redirect=None, status=None)) after connection broken by 'NewConnectionError('<pip._vendor.urllib3.connection.HTTPSConnection object at 0x00000224D3E3DE20>: Failed to establish a new connection: [Errno 11001] getaddrinfo failed')': /simple/pdfplumber/\n"
     ]
    }
   ],
   "source": [
    "import sys\n",
    "!{sys.executable} -m pip install pdfplumber"
   ]
  },
  {
   "cell_type": "code",
   "execution_count": 10,
   "id": "74a51f0f",
   "metadata": {},
   "outputs": [
    {
     "name": "stderr",
     "output_type": "stream",
     "text": [
      "ERROR: Could not find a version that satisfies the requirement read_pdf (from versions: none)\n",
      "ERROR: No matching distribution found for read_pdf\n"
     ]
    }
   ],
   "source": [
    "!{sys.executable} -m pip install read_pdf "
   ]
  },
  {
   "cell_type": "code",
   "execution_count": null,
   "id": "df8e49b2",
   "metadata": {},
   "outputs": [],
   "source": [
    "# Import necessary libraries\n",
    "import pandas as pd\n",
    "from tabula import read_pdf\n",
    "import matplotlib.pyplot as plt\n",
    "import seaborn as sns\n",
    "\n",
    "# Load the PDF file into a dataframe\n",
    "file_path = \"MPESA_Statement_2024-01-01_to_2024-12-24_2547xxxxxx374_unlocked.pdf\"\n",
    "\n",
    "# Extract tables from the PDF\n",
    "try:\n",
    "    tables = read_pdf(file_path, pages=\"all\", multiple_tables=True)\n",
    "    print(\"PDF tables successfully extracted.\")\n",
    "except Exception as e:\n",
    "    print(\"Error reading the PDF file:\", e)\n",
    "\n",
    "# Assuming the detailed transactions are in the largest table\n",
    "transactions = tables[1]  # Adjust index based on your PDF structure\n",
    "transactions.columns = [\"Receipt No.\", \"Completion Time\", \"Details\", \"Transaction Status\", \"Paid In\", \"Withdrawn\", \"Balance\"]\n",
    "\n",
    "# Data Cleaning\n",
    "transactions[\"Paid In\"] = pd.to_numeric(transactions[\"Paid In\"], errors=\"coerce\")\n",
    "transactions[\"Withdrawn\"] = pd.to_numeric(transactions[\"Withdrawn\"], errors=\"coerce\")\n",
    "transactions[\"Balance\"] = pd.to_numeric(transactions[\"Balance\"], errors=\"coerce\")\n",
    "transactions[\"Completion Time\"] = pd.to_datetime(transactions[\"Completion Time\"], errors=\"coerce\")\n",
    "\n",
    "# Remove rows with missing values in critical columns\n",
    "transactions.dropna(subset=[\"Completion Time\", \"Paid In\", \"Withdrawn\"], inplace=True)\n",
    "\n",
    "# Basic Insights\n",
    "total_paid_in = transactions[\"Paid In\"].sum()\n",
    "total_withdrawn = transactions[\"Withdrawn\"].sum()\n",
    "print(f\"Total Paid In: {total_paid_in}\")\n",
    "print(f\"Total Withdrawn: {total_withdrawn}\")\n",
    "\n",
    "# Visualizations\n",
    "# 1. Transaction Trends Over Time\n",
    "plt.figure(figsize=(12, 6))\n",
    "sns.lineplot(data=transactions, x=\"Completion Time\", y=\"Paid In\", label=\"Paid In\")\n",
    "sns.lineplot(data=transactions, x=\"Completion Time\", y=\"Withdrawn\", label=\"Withdrawn\")\n",
    "plt.title(\"Transaction Trends Over Time\")\n",
    "plt.xlabel(\"Time\")\n",
    "plt.ylabel(\"Amount\")\n",
    "plt.legend()\n",
    "plt.show()\n",
    "\n",
    "# 2. Distribution of Paid In and Withdrawn Amounts\n",
    "plt.figure(figsize=(12, 6))\n",
    "sns.histplot(transactions[\"Paid In\"], kde=True, label=\"Paid In\", color=\"blue\", bins=20)\n",
    "sns.histplot(transactions[\"Withdrawn\"], kde=True, label=\"Withdrawn\", color=\"red\", bins=20)\n",
    "plt.title(\"Distribution of Paid In and Withdrawn Amounts\")\n",
    "plt.xlabel(\"Amount\")\n",
    "plt.ylabel(\"Frequency\")\n",
    "plt.legend()\n",
    "plt.show()\n",
    "\n",
    "# 3. Monthly Summary\n",
    "transactions[\"Month\"] = transactions[\"Completion Time\"].dt.to_period(\"M\")\n",
    "monthly_summary = transactions.groupby(\"Month\").agg({\"Paid In\": \"sum\", \"Withdrawn\": \"sum\"}).reset_index()\n",
    "print(monthly_summary)\n",
    "\n",
    "# Bar Plot for Monthly Summary\n",
    "plt.figure(figsize=(12, 6))\n",
    "monthly_summary.plot(x=\"Month\", kind=\"bar\", stacked=True, title=\"Monthly Paid In and Withdrawn Summary\")\n",
    "plt.ylabel(\"Amount\")\n",
    "plt.xlabel(\"Month\")\n",
    "plt.show()\n"
   ]
  }
 ],
 "metadata": {
  "kernelspec": {
   "display_name": "Python 3 (ipykernel)",
   "language": "python",
   "name": "python3"
  },
  "language_info": {
   "codemirror_mode": {
    "name": "ipython",
    "version": 3
   },
   "file_extension": ".py",
   "mimetype": "text/x-python",
   "name": "python",
   "nbconvert_exporter": "python",
   "pygments_lexer": "ipython3",
   "version": "3.9.13"
  }
 },
 "nbformat": 4,
 "nbformat_minor": 5
}
